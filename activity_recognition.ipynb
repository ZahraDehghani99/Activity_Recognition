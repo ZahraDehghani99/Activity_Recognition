{
  "nbformat": 4,
  "nbformat_minor": 0,
  "metadata": {
    "colab": {
      "name": "activity_recognition.ipynb",
      "provenance": [],
      "collapsed_sections": [],
      "toc_visible": true,
      "include_colab_link": true
    },
    "kernelspec": {
      "name": "python3",
      "display_name": "Python 3"
    },
    "language_info": {
      "name": "python"
    }
  },
  "cells": [
    {
      "cell_type": "markdown",
      "metadata": {
        "id": "view-in-github",
        "colab_type": "text"
      },
      "source": [
        "<a href=\"https://colab.research.google.com/github/ZahraDehghani99/Activity_Recognition/blob/master/activity_recognition.ipynb\" target=\"_parent\"><img src=\"https://colab.research.google.com/assets/colab-badge.svg\" alt=\"Open In Colab\"/></a>"
      ]
    },
    {
      "cell_type": "markdown",
      "source": [
        "# Activity Recognition"
      ],
      "metadata": {
        "id": "MdiqnfIKDDtp"
      }
    },
    {
      "cell_type": "markdown",
      "source": [
        "## EDA"
      ],
      "metadata": {
        "id": "CHiXAD-D6KyK"
      }
    },
    {
      "cell_type": "code",
      "source": [
        "import pandas as pd\n",
        "import numpy as np\n",
        "from sklearn import svm\n",
        "from sklearn.ensemble import RandomForestClassifier\n",
        "import xgboost as xgb\n",
        "from sklearn import metrics\n",
        "import matplotlib.pyplot as plt\n"
      ],
      "metadata": {
        "id": "QfW7kWvQFCiN"
      },
      "execution_count": null,
      "outputs": []
    },
    {
      "cell_type": "code",
      "execution_count": null,
      "metadata": {
        "colab": {
          "base_uri": "https://localhost:8080/"
        },
        "id": "DdXhbO3ADBnP",
        "outputId": "35820331-25b3-4fb6-dd95-21e6ac877381"
      },
      "outputs": [
        {
          "output_type": "stream",
          "name": "stdout",
          "text": [
            "Mounted at /content/drive\n"
          ]
        }
      ],
      "source": [
        "from google.colab import drive\n",
        "drive.mount('/content/drive')"
      ]
    },
    {
      "cell_type": "code",
      "source": [
        "# unzip a folder\n",
        "# !unzip -q /content/drive/MyDrive/ML_Dr.sajedi/sensors-19-05524-s001.zip -d /content/drive/MyDrive/ML_Dr.sajedi/sensors-19-05524-s001"
      ],
      "metadata": {
        "id": "OmWtBXJmFTWA"
      },
      "execution_count": null,
      "outputs": []
    },
    {
      "cell_type": "markdown",
      "source": [
        "Let's define a funtion to read label of each column form .txt file."
      ],
      "metadata": {
        "id": "qTZO_CpPtAE7"
      }
    },
    {
      "cell_type": "code",
      "source": [
        "def readFile(filename):\n",
        "  fileObj = open(filename, 'r', encoding='utf-8') # open the file in read mode\n",
        "  words = fileObj.read().splitlines() # puts the file into an array\n",
        "  fileObj.close()\n",
        "  return words"
      ],
      "metadata": {
        "id": "-3VtJfA8s9Zw"
      },
      "execution_count": null,
      "outputs": []
    },
    {
      "cell_type": "code",
      "source": [
        "LABEL_PATH = '/content/drive/MyDrive/ML_Dr.sajedi/sensors-19-05524-s001/sensors-19-05524-s001_new/labels.txt'\n",
        "column_label = readFile(LABEL_PATH)\n",
        "print(f'length of column_label : {len(column_label)}')"
      ],
      "metadata": {
        "colab": {
          "base_uri": "https://localhost:8080/"
        },
        "id": "zPpz1yP4tHze",
        "outputId": "99fdc187-aa43-48a1-820e-d30ed9c2b680"
      },
      "execution_count": null,
      "outputs": [
        {
          "output_type": "stream",
          "name": "stdout",
          "text": [
            "length of column_label : 535\n"
          ]
        }
      ]
    },
    {
      "cell_type": "markdown",
      "source": [
        "Attribute Information:\n",
        "\n",
        "The first column correspond to the index of the subject. The next 174 attributes are statistics extracted from the ECG signal. The next 151 attributes are features extracted from the TEB signal. The next 104 attributes come from the EDA measured in the arm, and the next 104 ones from the EDA in the hand. The last attribute is the pattern class, that is, the corresponding activity: 1-neutral, 2-emotional, 3-mental and 4-physical.\n"
      ],
      "metadata": {
        "id": "gAb4OcAghLDH"
      }
    },
    {
      "cell_type": "code",
      "source": [
        "DATA_PATH = '/content/drive/MyDrive/ML_Dr.sajedi/sensors-19-05524-s001/sensors-19-05524-s001_new/data.txt'\n",
        "data = pd.read_csv(DATA_PATH, header=None)\n",
        "data.columns = column_label\n",
        "data.head()"
      ],
      "metadata": {
        "colab": {
          "base_uri": "https://localhost:8080/",
          "height": 369
        },
        "id": "b7S2KWHcDOQR",
        "outputId": "90675721-3adc-4e1e-c1cd-180e75f0852c"
      },
      "execution_count": null,
      "outputs": [
        {
          "output_type": "execute_result",
          "data": {
            "text/html": [
              "\n",
              "  <div id=\"df-34c391bb-97f4-4ebf-a52a-411ab614d12b\">\n",
              "    <div class=\"colab-df-container\">\n",
              "      <div>\n",
              "<style scoped>\n",
              "    .dataframe tbody tr th:only-of-type {\n",
              "        vertical-align: middle;\n",
              "    }\n",
              "\n",
              "    .dataframe tbody tr th {\n",
              "        vertical-align: top;\n",
              "    }\n",
              "\n",
              "    .dataframe thead th {\n",
              "        text-align: right;\n",
              "    }\n",
              "</style>\n",
              "<table border=\"1\" class=\"dataframe\">\n",
              "  <thead>\n",
              "    <tr style=\"text-align: right;\">\n",
              "      <th></th>\n",
              "      <th>Subject index (1-40)</th>\n",
              "      <th>ECG_original_mean</th>\n",
              "      <th>ECG_original_std</th>\n",
              "      <th>ECG_original_trimmean25</th>\n",
              "      <th>ECG_original_median</th>\n",
              "      <th>ECG_original_skewness</th>\n",
              "      <th>ECG_original_kurtosis</th>\n",
              "      <th>ECG_original_max</th>\n",
              "      <th>ECG_original_min</th>\n",
              "      <th>ECG_original_prctile25</th>\n",
              "      <th>ECG_original_prctile75</th>\n",
              "      <th>ECG_original_geomean(abs)</th>\n",
              "      <th>ECG_original_harmmean</th>\n",
              "      <th>ECG_original_mad</th>\n",
              "      <th>ECG_original_baseline</th>\n",
              "      <th>ECG_RR_window_mean</th>\n",
              "      <th>ECG_RR_window_std</th>\n",
              "      <th>ECG_RR_window_trimmean25</th>\n",
              "      <th>ECG_RR_window_median</th>\n",
              "      <th>ECG_RR_window_skewness</th>\n",
              "      <th>ECG_RR_window_kurtosis</th>\n",
              "      <th>ECG_RR_window_max</th>\n",
              "      <th>ECG_RR_window_min</th>\n",
              "      <th>ECG_RR_window_prctile25</th>\n",
              "      <th>ECG_RR_window_prctile75</th>\n",
              "      <th>ECG_RR_window_geomean(abs)</th>\n",
              "      <th>ECG_RR_window_harmmean</th>\n",
              "      <th>ECG_RR_window_mad</th>\n",
              "      <th>ECG_RR_window_baseline</th>\n",
              "      <th>ECG_amplitude_RR_mean</th>\n",
              "      <th>ECG_amplitude_RR_std</th>\n",
              "      <th>ECG_amplitude_RR_trimmean25</th>\n",
              "      <th>ECG_amplitude_RR_median</th>\n",
              "      <th>ECG_amplitude_RR_skewness</th>\n",
              "      <th>ECG_amplitude_RR_kurtosis</th>\n",
              "      <th>ECG_amplitude_RR_max</th>\n",
              "      <th>ECG_amplitude_RR_min</th>\n",
              "      <th>ECG_amplitude_RR_prctile25</th>\n",
              "      <th>ECG_amplitude_RR_prctile75</th>\n",
              "      <th>ECG_amplitude_RR_geomean(abs)</th>\n",
              "      <th>...</th>\n",
              "      <th>EDA_Functionals_power_Originalmedian</th>\n",
              "      <th>EDA_Functionals_power_Originalskewness</th>\n",
              "      <th>EDA_Functionals_power_Originalkurtosis</th>\n",
              "      <th>EDA_Functionals_power_Originalmax</th>\n",
              "      <th>EDA_Functionals_power_Originalmin</th>\n",
              "      <th>EDA_Functionals_power_Originalprctile25</th>\n",
              "      <th>EDA_Functionals_power_Originalprctile75</th>\n",
              "      <th>EDA_Functionals_power_Originalgeomean(abs)</th>\n",
              "      <th>EDA_Functionals_power_Originalharmmean</th>\n",
              "      <th>EDA_Functionals_power_Originalmad</th>\n",
              "      <th>EDA_Functionals_power_Originalbaseline</th>\n",
              "      <th>EDA_Functionals_power_Fil12mean</th>\n",
              "      <th>EDA_Functionals_power_Fil12std</th>\n",
              "      <th>EDA_Functionals_power_Fil12trimmean25</th>\n",
              "      <th>EDA_Functionals_power_Fil12median</th>\n",
              "      <th>EDA_Functionals_power_Fil12skewness</th>\n",
              "      <th>EDA_Functionals_power_Fil12kurtosis</th>\n",
              "      <th>EDA_Functionals_power_Fil12max</th>\n",
              "      <th>EDA_Functionals_power_Fil12min</th>\n",
              "      <th>EDA_Functionals_power_Fil12prctile25</th>\n",
              "      <th>EDA_Functionals_power_Fil12prctile75</th>\n",
              "      <th>EDA_Functionals_power_Fil12geomean(abs)</th>\n",
              "      <th>EDA_Functionals_power_Fil12harmmean</th>\n",
              "      <th>EDA_Functionals_power_Fil12mad</th>\n",
              "      <th>EDA_Functionals_power_Fil12baseline</th>\n",
              "      <th>EDA_Functionals_power_Filt2mean</th>\n",
              "      <th>EDA_Functionals_power_Filt2std</th>\n",
              "      <th>EDA_Functionals_power_Filt2trimmean25</th>\n",
              "      <th>EDA_Functionals_power_Filt2median</th>\n",
              "      <th>EDA_Functionals_power_Filt2skewness</th>\n",
              "      <th>EDA_Functionals_power_Filt2kurtosis</th>\n",
              "      <th>EDA_Functionals_power_Filt2max</th>\n",
              "      <th>EDA_Functionals_power_Filt2min</th>\n",
              "      <th>EDA_Functionals_power_Filt2prctile25</th>\n",
              "      <th>EDA_Functionals_power_Filt2prctile75</th>\n",
              "      <th>EDA_Functionals_power_Filt2geomean(abs)</th>\n",
              "      <th>EDA_Functionals_power_Filt2harmmean</th>\n",
              "      <th>EDA_Functionals_power_Filt2mad</th>\n",
              "      <th>EDA_Functionals_power_Filt2baseline</th>\n",
              "      <th>Activity: 1-neutral, 2-emotional, 3-mental and 4-physical</th>\n",
              "    </tr>\n",
              "  </thead>\n",
              "  <tbody>\n",
              "    <tr>\n",
              "      <th>0</th>\n",
              "      <td>1</td>\n",
              "      <td>-0.004125</td>\n",
              "      <td>0.254095</td>\n",
              "      <td>0.001426</td>\n",
              "      <td>-0.01037</td>\n",
              "      <td>-0.538509</td>\n",
              "      <td>5.95534</td>\n",
              "      <td>1.04063</td>\n",
              "      <td>-1.37437</td>\n",
              "      <td>-0.10937</td>\n",
              "      <td>0.10763</td>\n",
              "      <td>0.093296</td>\n",
              "      <td>-0.065212</td>\n",
              "      <td>0.172694</td>\n",
              "      <td>0.001901</td>\n",
              "      <td>231.814</td>\n",
              "      <td>16.2733</td>\n",
              "      <td>230.818</td>\n",
              "      <td>231.0</td>\n",
              "      <td>0.374904</td>\n",
              "      <td>2.26279</td>\n",
              "      <td>265</td>\n",
              "      <td>205</td>\n",
              "      <td>218.25</td>\n",
              "      <td>242.75</td>\n",
              "      <td>231.263</td>\n",
              "      <td>230.721</td>\n",
              "      <td>13.4375</td>\n",
              "      <td>246.442</td>\n",
              "      <td>0.715107</td>\n",
              "      <td>0.196952</td>\n",
              "      <td>0.737071</td>\n",
              "      <td>0.74063</td>\n",
              "      <td>-2.421450</td>\n",
              "      <td>11.93200</td>\n",
              "      <td>1.04063</td>\n",
              "      <td>-0.18837</td>\n",
              "      <td>0.67213</td>\n",
              "      <td>0.80463</td>\n",
              "      <td>0.697440</td>\n",
              "      <td>...</td>\n",
              "      <td>9.03663</td>\n",
              "      <td>31.4247</td>\n",
              "      <td>1015.35</td>\n",
              "      <td>1.160930e+09</td>\n",
              "      <td>0.049631</td>\n",
              "      <td>3.68860</td>\n",
              "      <td>26.8278</td>\n",
              "      <td>12.09630</td>\n",
              "      <td>2.47663</td>\n",
              "      <td>2288290.0</td>\n",
              "      <td>4901420.0</td>\n",
              "      <td>1146810.0</td>\n",
              "      <td>33327500.0</td>\n",
              "      <td>14.7410</td>\n",
              "      <td>8.34680</td>\n",
              "      <td>31.4249</td>\n",
              "      <td>1015.36</td>\n",
              "      <td>1.160800e+09</td>\n",
              "      <td>0.018150</td>\n",
              "      <td>3.06333</td>\n",
              "      <td>24.5346</td>\n",
              "      <td>9.69082</td>\n",
              "      <td>1.079070</td>\n",
              "      <td>2288000.0</td>\n",
              "      <td>4902090.0</td>\n",
              "      <td>708396.0</td>\n",
              "      <td>20586600.0</td>\n",
              "      <td>10.43340</td>\n",
              "      <td>5.83548</td>\n",
              "      <td>31.4249</td>\n",
              "      <td>1015.36</td>\n",
              "      <td>717032000.0</td>\n",
              "      <td>0.027384</td>\n",
              "      <td>2.53425</td>\n",
              "      <td>17.3882</td>\n",
              "      <td>8.05589</td>\n",
              "      <td>1.80247</td>\n",
              "      <td>1413310.0</td>\n",
              "      <td>3028080.0</td>\n",
              "      <td>1</td>\n",
              "    </tr>\n",
              "    <tr>\n",
              "      <th>1</th>\n",
              "      <td>1</td>\n",
              "      <td>0.031029</td>\n",
              "      <td>0.193761</td>\n",
              "      <td>0.012918</td>\n",
              "      <td>-0.00237</td>\n",
              "      <td>0.781415</td>\n",
              "      <td>5.18794</td>\n",
              "      <td>0.98963</td>\n",
              "      <td>-0.71937</td>\n",
              "      <td>-0.08737</td>\n",
              "      <td>0.11163</td>\n",
              "      <td>0.079461</td>\n",
              "      <td>-0.057924</td>\n",
              "      <td>0.142173</td>\n",
              "      <td>0.002046</td>\n",
              "      <td>230.500</td>\n",
              "      <td>15.5536</td>\n",
              "      <td>229.469</td>\n",
              "      <td>230.0</td>\n",
              "      <td>0.397898</td>\n",
              "      <td>2.37158</td>\n",
              "      <td>265</td>\n",
              "      <td>205</td>\n",
              "      <td>216.00</td>\n",
              "      <td>240.00</td>\n",
              "      <td>229.995</td>\n",
              "      <td>229.497</td>\n",
              "      <td>12.8333</td>\n",
              "      <td>246.362</td>\n",
              "      <td>0.752583</td>\n",
              "      <td>0.091733</td>\n",
              "      <td>0.747993</td>\n",
              "      <td>0.74163</td>\n",
              "      <td>0.471318</td>\n",
              "      <td>3.23181</td>\n",
              "      <td>0.98963</td>\n",
              "      <td>0.58063</td>\n",
              "      <td>0.69563</td>\n",
              "      <td>0.80263</td>\n",
              "      <td>0.747229</td>\n",
              "      <td>...</td>\n",
              "      <td>8.67972</td>\n",
              "      <td>31.4359</td>\n",
              "      <td>1015.80</td>\n",
              "      <td>1.141910e+09</td>\n",
              "      <td>0.018680</td>\n",
              "      <td>3.65946</td>\n",
              "      <td>25.3309</td>\n",
              "      <td>11.62070</td>\n",
              "      <td>2.07160</td>\n",
              "      <td>2248930.0</td>\n",
              "      <td>4882550.0</td>\n",
              "      <td>1127960.0</td>\n",
              "      <td>32813200.0</td>\n",
              "      <td>14.2791</td>\n",
              "      <td>8.09314</td>\n",
              "      <td>31.4354</td>\n",
              "      <td>1015.78</td>\n",
              "      <td>1.142700e+09</td>\n",
              "      <td>0.006967</td>\n",
              "      <td>2.90268</td>\n",
              "      <td>23.7557</td>\n",
              "      <td>8.98575</td>\n",
              "      <td>0.638533</td>\n",
              "      <td>2250550.0</td>\n",
              "      <td>4883220.0</td>\n",
              "      <td>696749.0</td>\n",
              "      <td>20268900.0</td>\n",
              "      <td>10.24230</td>\n",
              "      <td>5.76355</td>\n",
              "      <td>31.4354</td>\n",
              "      <td>1015.78</td>\n",
              "      <td>705854000.0</td>\n",
              "      <td>0.016947</td>\n",
              "      <td>2.51513</td>\n",
              "      <td>16.5914</td>\n",
              "      <td>7.81769</td>\n",
              "      <td>1.52349</td>\n",
              "      <td>1390180.0</td>\n",
              "      <td>3016420.0</td>\n",
              "      <td>1</td>\n",
              "    </tr>\n",
              "    <tr>\n",
              "      <th>2</th>\n",
              "      <td>1</td>\n",
              "      <td>0.015678</td>\n",
              "      <td>0.182336</td>\n",
              "      <td>-0.003028</td>\n",
              "      <td>-0.02337</td>\n",
              "      <td>0.881194</td>\n",
              "      <td>5.66530</td>\n",
              "      <td>0.87563</td>\n",
              "      <td>-0.71937</td>\n",
              "      <td>-0.08037</td>\n",
              "      <td>0.08863</td>\n",
              "      <td>0.074408</td>\n",
              "      <td>-0.042190</td>\n",
              "      <td>0.131310</td>\n",
              "      <td>0.002114</td>\n",
              "      <td>240.707</td>\n",
              "      <td>20.8210</td>\n",
              "      <td>239.871</td>\n",
              "      <td>238.0</td>\n",
              "      <td>0.725535</td>\n",
              "      <td>3.99127</td>\n",
              "      <td>309</td>\n",
              "      <td>205</td>\n",
              "      <td>225.25</td>\n",
              "      <td>258.25</td>\n",
              "      <td>239.855</td>\n",
              "      <td>239.027</td>\n",
              "      <td>16.7591</td>\n",
              "      <td>246.334</td>\n",
              "      <td>0.727153</td>\n",
              "      <td>0.071073</td>\n",
              "      <td>0.727380</td>\n",
              "      <td>0.72663</td>\n",
              "      <td>0.021448</td>\n",
              "      <td>2.55858</td>\n",
              "      <td>0.87563</td>\n",
              "      <td>0.58063</td>\n",
              "      <td>0.68563</td>\n",
              "      <td>0.77263</td>\n",
              "      <td>0.723734</td>\n",
              "      <td>...</td>\n",
              "      <td>7.91861</td>\n",
              "      <td>31.4478</td>\n",
              "      <td>1016.15</td>\n",
              "      <td>1.014770e+09</td>\n",
              "      <td>0.009122</td>\n",
              "      <td>3.33107</td>\n",
              "      <td>23.2418</td>\n",
              "      <td>10.57340</td>\n",
              "      <td>1.67863</td>\n",
              "      <td>1997320.0</td>\n",
              "      <td>4863140.0</td>\n",
              "      <td>1001380.0</td>\n",
              "      <td>29162100.0</td>\n",
              "      <td>12.7885</td>\n",
              "      <td>7.24803</td>\n",
              "      <td>31.4480</td>\n",
              "      <td>1016.16</td>\n",
              "      <td>1.015080e+09</td>\n",
              "      <td>0.002325</td>\n",
              "      <td>2.59470</td>\n",
              "      <td>21.5530</td>\n",
              "      <td>7.83781</td>\n",
              "      <td>0.325641</td>\n",
              "      <td>1997890.0</td>\n",
              "      <td>4863810.0</td>\n",
              "      <td>618563.0</td>\n",
              "      <td>18013600.0</td>\n",
              "      <td>9.27871</td>\n",
              "      <td>5.16683</td>\n",
              "      <td>31.4480</td>\n",
              "      <td>1016.16</td>\n",
              "      <td>627018000.0</td>\n",
              "      <td>0.008129</td>\n",
              "      <td>2.25959</td>\n",
              "      <td>15.2312</td>\n",
              "      <td>7.11684</td>\n",
              "      <td>1.25860</td>\n",
              "      <td>1234110.0</td>\n",
              "      <td>3004430.0</td>\n",
              "      <td>1</td>\n",
              "    </tr>\n",
              "    <tr>\n",
              "      <th>3</th>\n",
              "      <td>1</td>\n",
              "      <td>0.014525</td>\n",
              "      <td>0.176636</td>\n",
              "      <td>-0.006161</td>\n",
              "      <td>-0.02737</td>\n",
              "      <td>1.024900</td>\n",
              "      <td>6.10968</td>\n",
              "      <td>0.91063</td>\n",
              "      <td>-0.71937</td>\n",
              "      <td>-0.08037</td>\n",
              "      <td>0.07163</td>\n",
              "      <td>0.070138</td>\n",
              "      <td>-0.044888</td>\n",
              "      <td>0.125188</td>\n",
              "      <td>0.002177</td>\n",
              "      <td>247.308</td>\n",
              "      <td>22.2275</td>\n",
              "      <td>247.103</td>\n",
              "      <td>251.0</td>\n",
              "      <td>0.267597</td>\n",
              "      <td>3.16102</td>\n",
              "      <td>309</td>\n",
              "      <td>205</td>\n",
              "      <td>232.00</td>\n",
              "      <td>261.00</td>\n",
              "      <td>246.340</td>\n",
              "      <td>245.378</td>\n",
              "      <td>17.9250</td>\n",
              "      <td>246.339</td>\n",
              "      <td>0.732130</td>\n",
              "      <td>0.075095</td>\n",
              "      <td>0.732096</td>\n",
              "      <td>0.72863</td>\n",
              "      <td>0.080985</td>\n",
              "      <td>2.54720</td>\n",
              "      <td>0.91063</td>\n",
              "      <td>0.57163</td>\n",
              "      <td>0.68463</td>\n",
              "      <td>0.78163</td>\n",
              "      <td>0.728356</td>\n",
              "      <td>...</td>\n",
              "      <td>7.21363</td>\n",
              "      <td>31.4331</td>\n",
              "      <td>1015.61</td>\n",
              "      <td>9.056650e+08</td>\n",
              "      <td>0.013667</td>\n",
              "      <td>3.16062</td>\n",
              "      <td>21.5717</td>\n",
              "      <td>9.85611</td>\n",
              "      <td>1.70518</td>\n",
              "      <td>1784200.0</td>\n",
              "      <td>4843300.0</td>\n",
              "      <td>894718.0</td>\n",
              "      <td>26025100.0</td>\n",
              "      <td>11.5775</td>\n",
              "      <td>6.56018</td>\n",
              "      <td>31.4333</td>\n",
              "      <td>1015.61</td>\n",
              "      <td>9.061740e+08</td>\n",
              "      <td>0.003921</td>\n",
              "      <td>2.35594</td>\n",
              "      <td>19.4487</td>\n",
              "      <td>7.21584</td>\n",
              "      <td>0.414603</td>\n",
              "      <td>1785180.0</td>\n",
              "      <td>4843960.0</td>\n",
              "      <td>552676.0</td>\n",
              "      <td>16075800.0</td>\n",
              "      <td>8.65402</td>\n",
              "      <td>4.63212</td>\n",
              "      <td>31.4333</td>\n",
              "      <td>1015.61</td>\n",
              "      <td>559748000.0</td>\n",
              "      <td>0.007377</td>\n",
              "      <td>2.13924</td>\n",
              "      <td>14.4663</td>\n",
              "      <td>6.70236</td>\n",
              "      <td>1.26643</td>\n",
              "      <td>1102720.0</td>\n",
              "      <td>2992170.0</td>\n",
              "      <td>1</td>\n",
              "    </tr>\n",
              "    <tr>\n",
              "      <th>4</th>\n",
              "      <td>1</td>\n",
              "      <td>0.010349</td>\n",
              "      <td>0.179248</td>\n",
              "      <td>-0.008526</td>\n",
              "      <td>-0.02737</td>\n",
              "      <td>0.935697</td>\n",
              "      <td>5.83902</td>\n",
              "      <td>0.91063</td>\n",
              "      <td>-0.75637</td>\n",
              "      <td>-0.08337</td>\n",
              "      <td>0.07163</td>\n",
              "      <td>0.072914</td>\n",
              "      <td>-0.041310</td>\n",
              "      <td>0.127866</td>\n",
              "      <td>0.002217</td>\n",
              "      <td>247.744</td>\n",
              "      <td>20.1621</td>\n",
              "      <td>246.310</td>\n",
              "      <td>247.0</td>\n",
              "      <td>0.715390</td>\n",
              "      <td>3.65264</td>\n",
              "      <td>309</td>\n",
              "      <td>219</td>\n",
              "      <td>232.00</td>\n",
              "      <td>260.75</td>\n",
              "      <td>246.968</td>\n",
              "      <td>246.214</td>\n",
              "      <td>16.3524</td>\n",
              "      <td>246.346</td>\n",
              "      <td>0.722305</td>\n",
              "      <td>0.075290</td>\n",
              "      <td>0.720830</td>\n",
              "      <td>0.71863</td>\n",
              "      <td>0.217065</td>\n",
              "      <td>2.69849</td>\n",
              "      <td>0.91063</td>\n",
              "      <td>0.57163</td>\n",
              "      <td>0.67013</td>\n",
              "      <td>0.77563</td>\n",
              "      <td>0.718493</td>\n",
              "      <td>...</td>\n",
              "      <td>6.36919</td>\n",
              "      <td>31.4347</td>\n",
              "      <td>1015.68</td>\n",
              "      <td>7.838310e+08</td>\n",
              "      <td>0.013880</td>\n",
              "      <td>2.79595</td>\n",
              "      <td>19.4440</td>\n",
              "      <td>8.87342</td>\n",
              "      <td>1.68492</td>\n",
              "      <td>1543980.0</td>\n",
              "      <td>4822950.0</td>\n",
              "      <td>774321.0</td>\n",
              "      <td>22525100.0</td>\n",
              "      <td>10.0727</td>\n",
              "      <td>5.67704</td>\n",
              "      <td>31.4346</td>\n",
              "      <td>1015.67</td>\n",
              "      <td>7.843120e+08</td>\n",
              "      <td>0.004017</td>\n",
              "      <td>2.02789</td>\n",
              "      <td>16.9093</td>\n",
              "      <td>6.30145</td>\n",
              "      <td>0.402379</td>\n",
              "      <td>1544950.0</td>\n",
              "      <td>4823610.0</td>\n",
              "      <td>478306.0</td>\n",
              "      <td>13913900.0</td>\n",
              "      <td>7.78651</td>\n",
              "      <td>4.23410</td>\n",
              "      <td>31.4346</td>\n",
              "      <td>1015.67</td>\n",
              "      <td>484473000.0</td>\n",
              "      <td>0.011448</td>\n",
              "      <td>1.93595</td>\n",
              "      <td>12.5493</td>\n",
              "      <td>6.08647</td>\n",
              "      <td>1.22387</td>\n",
              "      <td>954322.0</td>\n",
              "      <td>2979610.0</td>\n",
              "      <td>1</td>\n",
              "    </tr>\n",
              "  </tbody>\n",
              "</table>\n",
              "<p>5 rows × 535 columns</p>\n",
              "</div>\n",
              "      <button class=\"colab-df-convert\" onclick=\"convertToInteractive('df-34c391bb-97f4-4ebf-a52a-411ab614d12b')\"\n",
              "              title=\"Convert this dataframe to an interactive table.\"\n",
              "              style=\"display:none;\">\n",
              "        \n",
              "  <svg xmlns=\"http://www.w3.org/2000/svg\" height=\"24px\"viewBox=\"0 0 24 24\"\n",
              "       width=\"24px\">\n",
              "    <path d=\"M0 0h24v24H0V0z\" fill=\"none\"/>\n",
              "    <path d=\"M18.56 5.44l.94 2.06.94-2.06 2.06-.94-2.06-.94-.94-2.06-.94 2.06-2.06.94zm-11 1L8.5 8.5l.94-2.06 2.06-.94-2.06-.94L8.5 2.5l-.94 2.06-2.06.94zm10 10l.94 2.06.94-2.06 2.06-.94-2.06-.94-.94-2.06-.94 2.06-2.06.94z\"/><path d=\"M17.41 7.96l-1.37-1.37c-.4-.4-.92-.59-1.43-.59-.52 0-1.04.2-1.43.59L10.3 9.45l-7.72 7.72c-.78.78-.78 2.05 0 2.83L4 21.41c.39.39.9.59 1.41.59.51 0 1.02-.2 1.41-.59l7.78-7.78 2.81-2.81c.8-.78.8-2.07 0-2.86zM5.41 20L4 18.59l7.72-7.72 1.47 1.35L5.41 20z\"/>\n",
              "  </svg>\n",
              "      </button>\n",
              "      \n",
              "  <style>\n",
              "    .colab-df-container {\n",
              "      display:flex;\n",
              "      flex-wrap:wrap;\n",
              "      gap: 12px;\n",
              "    }\n",
              "\n",
              "    .colab-df-convert {\n",
              "      background-color: #E8F0FE;\n",
              "      border: none;\n",
              "      border-radius: 50%;\n",
              "      cursor: pointer;\n",
              "      display: none;\n",
              "      fill: #1967D2;\n",
              "      height: 32px;\n",
              "      padding: 0 0 0 0;\n",
              "      width: 32px;\n",
              "    }\n",
              "\n",
              "    .colab-df-convert:hover {\n",
              "      background-color: #E2EBFA;\n",
              "      box-shadow: 0px 1px 2px rgba(60, 64, 67, 0.3), 0px 1px 3px 1px rgba(60, 64, 67, 0.15);\n",
              "      fill: #174EA6;\n",
              "    }\n",
              "\n",
              "    [theme=dark] .colab-df-convert {\n",
              "      background-color: #3B4455;\n",
              "      fill: #D2E3FC;\n",
              "    }\n",
              "\n",
              "    [theme=dark] .colab-df-convert:hover {\n",
              "      background-color: #434B5C;\n",
              "      box-shadow: 0px 1px 3px 1px rgba(0, 0, 0, 0.15);\n",
              "      filter: drop-shadow(0px 1px 2px rgba(0, 0, 0, 0.3));\n",
              "      fill: #FFFFFF;\n",
              "    }\n",
              "  </style>\n",
              "\n",
              "      <script>\n",
              "        const buttonEl =\n",
              "          document.querySelector('#df-34c391bb-97f4-4ebf-a52a-411ab614d12b button.colab-df-convert');\n",
              "        buttonEl.style.display =\n",
              "          google.colab.kernel.accessAllowed ? 'block' : 'none';\n",
              "\n",
              "        async function convertToInteractive(key) {\n",
              "          const element = document.querySelector('#df-34c391bb-97f4-4ebf-a52a-411ab614d12b');\n",
              "          const dataTable =\n",
              "            await google.colab.kernel.invokeFunction('convertToInteractive',\n",
              "                                                     [key], {});\n",
              "          if (!dataTable) return;\n",
              "\n",
              "          const docLinkHtml = 'Like what you see? Visit the ' +\n",
              "            '<a target=\"_blank\" href=https://colab.research.google.com/notebooks/data_table.ipynb>data table notebook</a>'\n",
              "            + ' to learn more about interactive tables.';\n",
              "          element.innerHTML = '';\n",
              "          dataTable['output_type'] = 'display_data';\n",
              "          await google.colab.output.renderOutput(dataTable, element);\n",
              "          const docLink = document.createElement('div');\n",
              "          docLink.innerHTML = docLinkHtml;\n",
              "          element.appendChild(docLink);\n",
              "        }\n",
              "      </script>\n",
              "    </div>\n",
              "  </div>\n",
              "  "
            ],
            "text/plain": [
              "   Subject index (1-40)  ...  Activity: 1-neutral, 2-emotional, 3-mental and 4-physical\n",
              "0                     1  ...                                                  1        \n",
              "1                     1  ...                                                  1        \n",
              "2                     1  ...                                                  1        \n",
              "3                     1  ...                                                  1        \n",
              "4                     1  ...                                                  1        \n",
              "\n",
              "[5 rows x 535 columns]"
            ]
          },
          "metadata": {},
          "execution_count": 5
        }
      ]
    },
    {
      "cell_type": "code",
      "source": [
        "print(f'shape of data : {data.shape}')"
      ],
      "metadata": {
        "colab": {
          "base_uri": "https://localhost:8080/"
        },
        "id": "Pj1ejYgUOT5S",
        "outputId": "e6a71330-92da-4e68-f9ef-2b17658e9f16"
      },
      "execution_count": null,
      "outputs": [
        {
          "output_type": "stream",
          "name": "stdout",
          "text": [
            "shape of data : (4480, 535)\n"
          ]
        }
      ]
    },
    {
      "cell_type": "markdown",
      "source": [
        "Show the statistical attributes of the dataset."
      ],
      "metadata": {
        "id": "BncokuM8rEgj"
      }
    },
    {
      "cell_type": "code",
      "source": [
        "data.describe()"
      ],
      "metadata": {
        "colab": {
          "base_uri": "https://localhost:8080/",
          "height": 463
        },
        "id": "mN2WlGdAt-xI",
        "outputId": "b836d96d-e149-46ad-eb26-64fd9bd1ddbe"
      },
      "execution_count": null,
      "outputs": [
        {
          "output_type": "execute_result",
          "data": {
            "text/html": [
              "\n",
              "  <div id=\"df-07cce963-a6ee-4265-86dc-756d24b97c40\">\n",
              "    <div class=\"colab-df-container\">\n",
              "      <div>\n",
              "<style scoped>\n",
              "    .dataframe tbody tr th:only-of-type {\n",
              "        vertical-align: middle;\n",
              "    }\n",
              "\n",
              "    .dataframe tbody tr th {\n",
              "        vertical-align: top;\n",
              "    }\n",
              "\n",
              "    .dataframe thead th {\n",
              "        text-align: right;\n",
              "    }\n",
              "</style>\n",
              "<table border=\"1\" class=\"dataframe\">\n",
              "  <thead>\n",
              "    <tr style=\"text-align: right;\">\n",
              "      <th></th>\n",
              "      <th>Subject index (1-40)</th>\n",
              "      <th>ECG_original_mean</th>\n",
              "      <th>ECG_original_std</th>\n",
              "      <th>ECG_original_trimmean25</th>\n",
              "      <th>ECG_original_median</th>\n",
              "      <th>ECG_original_skewness</th>\n",
              "      <th>ECG_original_kurtosis</th>\n",
              "      <th>ECG_original_max</th>\n",
              "      <th>ECG_original_min</th>\n",
              "      <th>ECG_original_prctile25</th>\n",
              "      <th>ECG_original_prctile75</th>\n",
              "      <th>ECG_original_geomean(abs)</th>\n",
              "      <th>ECG_original_harmmean</th>\n",
              "      <th>ECG_original_mad</th>\n",
              "      <th>ECG_original_baseline</th>\n",
              "      <th>ECG_RR_window_mean</th>\n",
              "      <th>ECG_RR_window_std</th>\n",
              "      <th>ECG_RR_window_trimmean25</th>\n",
              "      <th>ECG_RR_window_median</th>\n",
              "      <th>ECG_RR_window_skewness</th>\n",
              "      <th>ECG_RR_window_kurtosis</th>\n",
              "      <th>ECG_RR_window_max</th>\n",
              "      <th>ECG_RR_window_min</th>\n",
              "      <th>ECG_RR_window_prctile25</th>\n",
              "      <th>ECG_RR_window_prctile75</th>\n",
              "      <th>ECG_RR_window_geomean(abs)</th>\n",
              "      <th>ECG_RR_window_harmmean</th>\n",
              "      <th>ECG_RR_window_mad</th>\n",
              "      <th>ECG_RR_window_baseline</th>\n",
              "      <th>ECG_amplitude_RR_mean</th>\n",
              "      <th>ECG_amplitude_RR_std</th>\n",
              "      <th>ECG_amplitude_RR_trimmean25</th>\n",
              "      <th>ECG_amplitude_RR_median</th>\n",
              "      <th>ECG_amplitude_RR_skewness</th>\n",
              "      <th>ECG_amplitude_RR_kurtosis</th>\n",
              "      <th>ECG_amplitude_RR_max</th>\n",
              "      <th>ECG_amplitude_RR_min</th>\n",
              "      <th>ECG_amplitude_RR_prctile25</th>\n",
              "      <th>ECG_amplitude_RR_prctile75</th>\n",
              "      <th>ECG_amplitude_RR_geomean(abs)</th>\n",
              "      <th>...</th>\n",
              "      <th>EDA_Functionals_power_Originalmedian</th>\n",
              "      <th>EDA_Functionals_power_Originalskewness</th>\n",
              "      <th>EDA_Functionals_power_Originalkurtosis</th>\n",
              "      <th>EDA_Functionals_power_Originalmax</th>\n",
              "      <th>EDA_Functionals_power_Originalmin</th>\n",
              "      <th>EDA_Functionals_power_Originalprctile25</th>\n",
              "      <th>EDA_Functionals_power_Originalprctile75</th>\n",
              "      <th>EDA_Functionals_power_Originalgeomean(abs)</th>\n",
              "      <th>EDA_Functionals_power_Originalharmmean</th>\n",
              "      <th>EDA_Functionals_power_Originalmad</th>\n",
              "      <th>EDA_Functionals_power_Originalbaseline</th>\n",
              "      <th>EDA_Functionals_power_Fil12mean</th>\n",
              "      <th>EDA_Functionals_power_Fil12std</th>\n",
              "      <th>EDA_Functionals_power_Fil12trimmean25</th>\n",
              "      <th>EDA_Functionals_power_Fil12median</th>\n",
              "      <th>EDA_Functionals_power_Fil12skewness</th>\n",
              "      <th>EDA_Functionals_power_Fil12kurtosis</th>\n",
              "      <th>EDA_Functionals_power_Fil12max</th>\n",
              "      <th>EDA_Functionals_power_Fil12min</th>\n",
              "      <th>EDA_Functionals_power_Fil12prctile25</th>\n",
              "      <th>EDA_Functionals_power_Fil12prctile75</th>\n",
              "      <th>EDA_Functionals_power_Fil12geomean(abs)</th>\n",
              "      <th>EDA_Functionals_power_Fil12harmmean</th>\n",
              "      <th>EDA_Functionals_power_Fil12mad</th>\n",
              "      <th>EDA_Functionals_power_Fil12baseline</th>\n",
              "      <th>EDA_Functionals_power_Filt2mean</th>\n",
              "      <th>EDA_Functionals_power_Filt2std</th>\n",
              "      <th>EDA_Functionals_power_Filt2trimmean25</th>\n",
              "      <th>EDA_Functionals_power_Filt2median</th>\n",
              "      <th>EDA_Functionals_power_Filt2skewness</th>\n",
              "      <th>EDA_Functionals_power_Filt2kurtosis</th>\n",
              "      <th>EDA_Functionals_power_Filt2max</th>\n",
              "      <th>EDA_Functionals_power_Filt2min</th>\n",
              "      <th>EDA_Functionals_power_Filt2prctile25</th>\n",
              "      <th>EDA_Functionals_power_Filt2prctile75</th>\n",
              "      <th>EDA_Functionals_power_Filt2geomean(abs)</th>\n",
              "      <th>EDA_Functionals_power_Filt2harmmean</th>\n",
              "      <th>EDA_Functionals_power_Filt2mad</th>\n",
              "      <th>EDA_Functionals_power_Filt2baseline</th>\n",
              "      <th>Activity: 1-neutral, 2-emotional, 3-mental and 4-physical</th>\n",
              "    </tr>\n",
              "  </thead>\n",
              "  <tbody>\n",
              "    <tr>\n",
              "      <th>count</th>\n",
              "      <td>4480.000000</td>\n",
              "      <td>4480.000000</td>\n",
              "      <td>4480.000000</td>\n",
              "      <td>4480.000000</td>\n",
              "      <td>4480.000000</td>\n",
              "      <td>4480.000000</td>\n",
              "      <td>4480.000000</td>\n",
              "      <td>4480.000000</td>\n",
              "      <td>4480.000000</td>\n",
              "      <td>4480.000000</td>\n",
              "      <td>4480.000000</td>\n",
              "      <td>4480.000000</td>\n",
              "      <td>4480.000000</td>\n",
              "      <td>4480.000000</td>\n",
              "      <td>4480.000000</td>\n",
              "      <td>4480.000000</td>\n",
              "      <td>4480.000000</td>\n",
              "      <td>4480.000000</td>\n",
              "      <td>4480.000000</td>\n",
              "      <td>4480.000000</td>\n",
              "      <td>4480.000000</td>\n",
              "      <td>4480.000000</td>\n",
              "      <td>4480.000000</td>\n",
              "      <td>4480.000000</td>\n",
              "      <td>4480.000000</td>\n",
              "      <td>4480.000000</td>\n",
              "      <td>4480.000000</td>\n",
              "      <td>4480.000000</td>\n",
              "      <td>4480.000000</td>\n",
              "      <td>4480.000000</td>\n",
              "      <td>4480.000000</td>\n",
              "      <td>4480.000000</td>\n",
              "      <td>4480.000000</td>\n",
              "      <td>4480.000000</td>\n",
              "      <td>4480.000000</td>\n",
              "      <td>4480.000000</td>\n",
              "      <td>4480.000000</td>\n",
              "      <td>4480.000000</td>\n",
              "      <td>4480.000000</td>\n",
              "      <td>4480.000000</td>\n",
              "      <td>...</td>\n",
              "      <td>4480.000000</td>\n",
              "      <td>4480.000000</td>\n",
              "      <td>4480.000000</td>\n",
              "      <td>4.480000e+03</td>\n",
              "      <td>4480.000000</td>\n",
              "      <td>4480.000000</td>\n",
              "      <td>4480.000000</td>\n",
              "      <td>4480.000000</td>\n",
              "      <td>4480.000000</td>\n",
              "      <td>4.480000e+03</td>\n",
              "      <td>4.480000e+03</td>\n",
              "      <td>4.480000e+03</td>\n",
              "      <td>4.480000e+03</td>\n",
              "      <td>4480.000000</td>\n",
              "      <td>4480.000000</td>\n",
              "      <td>4480.000000</td>\n",
              "      <td>4480.000000</td>\n",
              "      <td>4.480000e+03</td>\n",
              "      <td>4480.000000</td>\n",
              "      <td>4480.000000</td>\n",
              "      <td>4480.000000</td>\n",
              "      <td>4480.000000</td>\n",
              "      <td>4480.000000</td>\n",
              "      <td>4.480000e+03</td>\n",
              "      <td>4.480000e+03</td>\n",
              "      <td>4.480000e+03</td>\n",
              "      <td>4.480000e+03</td>\n",
              "      <td>4480.000000</td>\n",
              "      <td>4480.000000</td>\n",
              "      <td>4480.000000</td>\n",
              "      <td>4480.000000</td>\n",
              "      <td>4.480000e+03</td>\n",
              "      <td>4480.000000</td>\n",
              "      <td>4480.000000</td>\n",
              "      <td>4480.000000</td>\n",
              "      <td>4480.000000</td>\n",
              "      <td>4480.000000</td>\n",
              "      <td>4.480000e+03</td>\n",
              "      <td>4.480000e+03</td>\n",
              "      <td>4480.000000</td>\n",
              "    </tr>\n",
              "    <tr>\n",
              "      <th>mean</th>\n",
              "      <td>20.500000</td>\n",
              "      <td>0.069109</td>\n",
              "      <td>0.488721</td>\n",
              "      <td>0.064519</td>\n",
              "      <td>0.068895</td>\n",
              "      <td>0.640896</td>\n",
              "      <td>6.986733</td>\n",
              "      <td>1.504077</td>\n",
              "      <td>-1.243163</td>\n",
              "      <td>-0.260268</td>\n",
              "      <td>0.377705</td>\n",
              "      <td>0.324323</td>\n",
              "      <td>-0.594561</td>\n",
              "      <td>0.383814</td>\n",
              "      <td>-0.024551</td>\n",
              "      <td>196.950466</td>\n",
              "      <td>26.121304</td>\n",
              "      <td>194.828574</td>\n",
              "      <td>193.462612</td>\n",
              "      <td>0.611869</td>\n",
              "      <td>6.381564</td>\n",
              "      <td>278.637277</td>\n",
              "      <td>156.317857</td>\n",
              "      <td>181.052065</td>\n",
              "      <td>209.359542</td>\n",
              "      <td>193.965991</td>\n",
              "      <td>191.525931</td>\n",
              "      <td>18.948404</td>\n",
              "      <td>216.413810</td>\n",
              "      <td>0.415134</td>\n",
              "      <td>0.459970</td>\n",
              "      <td>0.423519</td>\n",
              "      <td>0.435287</td>\n",
              "      <td>-0.114528</td>\n",
              "      <td>4.677233</td>\n",
              "      <td>1.351817</td>\n",
              "      <td>-0.623824</td>\n",
              "      <td>0.116165</td>\n",
              "      <td>0.724552</td>\n",
              "      <td>0.579713</td>\n",
              "      <td>...</td>\n",
              "      <td>208.481570</td>\n",
              "      <td>30.995357</td>\n",
              "      <td>995.271625</td>\n",
              "      <td>2.886970e+10</td>\n",
              "      <td>0.218751</td>\n",
              "      <td>74.657495</td>\n",
              "      <td>608.083071</td>\n",
              "      <td>230.124258</td>\n",
              "      <td>13.679398</td>\n",
              "      <td>5.687778e+07</td>\n",
              "      <td>2.201300e+07</td>\n",
              "      <td>2.851780e+07</td>\n",
              "      <td>8.291709e+08</td>\n",
              "      <td>359.494011</td>\n",
              "      <td>207.227406</td>\n",
              "      <td>31.008114</td>\n",
              "      <td>995.769821</td>\n",
              "      <td>2.886970e+10</td>\n",
              "      <td>0.145724</td>\n",
              "      <td>73.200346</td>\n",
              "      <td>602.278770</td>\n",
              "      <td>221.623425</td>\n",
              "      <td>9.257172</td>\n",
              "      <td>5.687775e+07</td>\n",
              "      <td>2.201289e+07</td>\n",
              "      <td>1.761570e+07</td>\n",
              "      <td>5.121830e+08</td>\n",
              "      <td>226.285563</td>\n",
              "      <td>129.521143</td>\n",
              "      <td>30.991554</td>\n",
              "      <td>995.125291</td>\n",
              "      <td>1.783296e+10</td>\n",
              "      <td>0.146855</td>\n",
              "      <td>46.787567</td>\n",
              "      <td>378.001879</td>\n",
              "      <td>144.291078</td>\n",
              "      <td>9.347557</td>\n",
              "      <td>3.513370e+07</td>\n",
              "      <td>1.359751e+07</td>\n",
              "      <td>2.500000</td>\n",
              "    </tr>\n",
              "    <tr>\n",
              "      <th>std</th>\n",
              "      <td>11.544685</td>\n",
              "      <td>0.461571</td>\n",
              "      <td>0.688014</td>\n",
              "      <td>0.513720</td>\n",
              "      <td>0.636866</td>\n",
              "      <td>1.341187</td>\n",
              "      <td>7.005764</td>\n",
              "      <td>1.357288</td>\n",
              "      <td>1.231516</td>\n",
              "      <td>0.747809</td>\n",
              "      <td>0.838335</td>\n",
              "      <td>0.623772</td>\n",
              "      <td>35.307040</td>\n",
              "      <td>0.600550</td>\n",
              "      <td>0.077116</td>\n",
              "      <td>54.669295</td>\n",
              "      <td>27.378818</td>\n",
              "      <td>57.366522</td>\n",
              "      <td>59.547091</td>\n",
              "      <td>1.676670</td>\n",
              "      <td>10.083506</td>\n",
              "      <td>124.388092</td>\n",
              "      <td>58.077927</td>\n",
              "      <td>59.451966</td>\n",
              "      <td>59.595218</td>\n",
              "      <td>56.001337</td>\n",
              "      <td>57.157763</td>\n",
              "      <td>19.293808</td>\n",
              "      <td>36.649105</td>\n",
              "      <td>0.522469</td>\n",
              "      <td>0.681516</td>\n",
              "      <td>0.557511</td>\n",
              "      <td>0.642367</td>\n",
              "      <td>1.164318</td>\n",
              "      <td>4.420174</td>\n",
              "      <td>1.316661</td>\n",
              "      <td>1.358620</td>\n",
              "      <td>0.799277</td>\n",
              "      <td>0.772722</td>\n",
              "      <td>0.549016</td>\n",
              "      <td>...</td>\n",
              "      <td>399.037019</td>\n",
              "      <td>2.294087</td>\n",
              "      <td>107.079126</td>\n",
              "      <td>5.571606e+10</td>\n",
              "      <td>0.639558</td>\n",
              "      <td>140.275733</td>\n",
              "      <td>1157.959639</td>\n",
              "      <td>425.339641</td>\n",
              "      <td>25.210344</td>\n",
              "      <td>1.097479e+08</td>\n",
              "      <td>4.613084e+07</td>\n",
              "      <td>5.501785e+07</td>\n",
              "      <td>1.600275e+09</td>\n",
              "      <td>690.552652</td>\n",
              "      <td>399.683032</td>\n",
              "      <td>2.234987</td>\n",
              "      <td>104.923685</td>\n",
              "      <td>5.571609e+10</td>\n",
              "      <td>0.532914</td>\n",
              "      <td>140.171564</td>\n",
              "      <td>1158.188078</td>\n",
              "      <td>419.412334</td>\n",
              "      <td>23.667852</td>\n",
              "      <td>1.097479e+08</td>\n",
              "      <td>4.613091e+07</td>\n",
              "      <td>3.398492e+07</td>\n",
              "      <td>9.884982e+08</td>\n",
              "      <td>427.943403</td>\n",
              "      <td>246.702261</td>\n",
              "      <td>2.311517</td>\n",
              "      <td>107.699426</td>\n",
              "      <td>3.441611e+10</td>\n",
              "      <td>0.431288</td>\n",
              "      <td>87.299176</td>\n",
              "      <td>715.895192</td>\n",
              "      <td>264.241472</td>\n",
              "      <td>16.177566</td>\n",
              "      <td>6.779186e+07</td>\n",
              "      <td>2.849531e+07</td>\n",
              "      <td>1.118159</td>\n",
              "    </tr>\n",
              "    <tr>\n",
              "      <th>min</th>\n",
              "      <td>1.000000</td>\n",
              "      <td>-1.401350</td>\n",
              "      <td>0.044061</td>\n",
              "      <td>-1.629660</td>\n",
              "      <td>-2.780330</td>\n",
              "      <td>-7.320410</td>\n",
              "      <td>1.076340</td>\n",
              "      <td>0.118958</td>\n",
              "      <td>-4.031040</td>\n",
              "      <td>-3.931120</td>\n",
              "      <td>-0.834042</td>\n",
              "      <td>0.017903</td>\n",
              "      <td>-2213.350000</td>\n",
              "      <td>0.031461</td>\n",
              "      <td>-0.576348</td>\n",
              "      <td>83.898300</td>\n",
              "      <td>0.895432</td>\n",
              "      <td>83.715900</td>\n",
              "      <td>84.000000</td>\n",
              "      <td>-4.878100</td>\n",
              "      <td>1.115700</td>\n",
              "      <td>87.000000</td>\n",
              "      <td>83.000000</td>\n",
              "      <td>83.000000</td>\n",
              "      <td>84.000000</td>\n",
              "      <td>83.892100</td>\n",
              "      <td>83.886000</td>\n",
              "      <td>0.741379</td>\n",
              "      <td>132.863000</td>\n",
              "      <td>-1.582530</td>\n",
              "      <td>0.015324</td>\n",
              "      <td>-1.769190</td>\n",
              "      <td>-2.827330</td>\n",
              "      <td>-6.028590</td>\n",
              "      <td>1.087380</td>\n",
              "      <td>-0.411900</td>\n",
              "      <td>-4.031040</td>\n",
              "      <td>-3.893220</td>\n",
              "      <td>-0.545900</td>\n",
              "      <td>0.028587</td>\n",
              "      <td>...</td>\n",
              "      <td>0.028207</td>\n",
              "      <td>14.096800</td>\n",
              "      <td>223.642000</td>\n",
              "      <td>1.161330e+03</td>\n",
              "      <td>0.000014</td>\n",
              "      <td>0.009112</td>\n",
              "      <td>0.116068</td>\n",
              "      <td>0.036827</td>\n",
              "      <td>0.001987</td>\n",
              "      <td>1.164640e+01</td>\n",
              "      <td>4.906060e+01</td>\n",
              "      <td>5.773070e+00</td>\n",
              "      <td>5.800980e+01</td>\n",
              "      <td>0.000473</td>\n",
              "      <td>0.000032</td>\n",
              "      <td>14.427300</td>\n",
              "      <td>233.959000</td>\n",
              "      <td>1.149400e+03</td>\n",
              "      <td>0.000003</td>\n",
              "      <td>0.000019</td>\n",
              "      <td>0.000106</td>\n",
              "      <td>0.000167</td>\n",
              "      <td>0.000030</td>\n",
              "      <td>1.090940e+01</td>\n",
              "      <td>4.769370e+01</td>\n",
              "      <td>4.024470e+00</td>\n",
              "      <td>3.701900e+01</td>\n",
              "      <td>0.067947</td>\n",
              "      <td>0.028061</td>\n",
              "      <td>13.991600</td>\n",
              "      <td>220.550000</td>\n",
              "      <td>7.194500e+02</td>\n",
              "      <td>0.000012</td>\n",
              "      <td>0.008857</td>\n",
              "      <td>0.113070</td>\n",
              "      <td>0.034914</td>\n",
              "      <td>0.001795</td>\n",
              "      <td>7.315860e+00</td>\n",
              "      <td>3.062260e+01</td>\n",
              "      <td>1.000000</td>\n",
              "    </tr>\n",
              "    <tr>\n",
              "      <th>25%</th>\n",
              "      <td>10.750000</td>\n",
              "      <td>-0.014160</td>\n",
              "      <td>0.138413</td>\n",
              "      <td>-0.043896</td>\n",
              "      <td>-0.064297</td>\n",
              "      <td>-0.096772</td>\n",
              "      <td>3.572295</td>\n",
              "      <td>0.563736</td>\n",
              "      <td>-1.631850</td>\n",
              "      <td>-0.237739</td>\n",
              "      <td>0.031709</td>\n",
              "      <td>0.056744</td>\n",
              "      <td>-0.118679</td>\n",
              "      <td>0.095438</td>\n",
              "      <td>-0.002482</td>\n",
              "      <td>160.077750</td>\n",
              "      <td>10.486675</td>\n",
              "      <td>153.340750</td>\n",
              "      <td>145.500000</td>\n",
              "      <td>-0.267660</td>\n",
              "      <td>2.359155</td>\n",
              "      <td>221.000000</td>\n",
              "      <td>85.000000</td>\n",
              "      <td>120.000000</td>\n",
              "      <td>174.500000</td>\n",
              "      <td>150.660500</td>\n",
              "      <td>142.054500</td>\n",
              "      <td>8.066760</td>\n",
              "      <td>190.799250</td>\n",
              "      <td>0.147230</td>\n",
              "      <td>0.068088</td>\n",
              "      <td>0.144630</td>\n",
              "      <td>0.145654</td>\n",
              "      <td>-0.562773</td>\n",
              "      <td>2.505625</td>\n",
              "      <td>0.452782</td>\n",
              "      <td>-1.057010</td>\n",
              "      <td>-0.084372</td>\n",
              "      <td>0.292199</td>\n",
              "      <td>0.245466</td>\n",
              "      <td>...</td>\n",
              "      <td>3.839055</td>\n",
              "      <td>31.425000</td>\n",
              "      <td>1015.330000</td>\n",
              "      <td>2.323328e+08</td>\n",
              "      <td>0.006327</td>\n",
              "      <td>1.760997</td>\n",
              "      <td>11.749875</td>\n",
              "      <td>5.689152</td>\n",
              "      <td>1.116615</td>\n",
              "      <td>4.648012e+05</td>\n",
              "      <td>4.336985e+05</td>\n",
              "      <td>2.336782e+05</td>\n",
              "      <td>6.684748e+06</td>\n",
              "      <td>3.201372</td>\n",
              "      <td>1.716398</td>\n",
              "      <td>31.424900</td>\n",
              "      <td>1015.330000</td>\n",
              "      <td>2.323310e+08</td>\n",
              "      <td>0.000402</td>\n",
              "      <td>0.634425</td>\n",
              "      <td>5.244822</td>\n",
              "      <td>2.151722</td>\n",
              "      <td>0.086389</td>\n",
              "      <td>4.650185e+05</td>\n",
              "      <td>4.337025e+05</td>\n",
              "      <td>1.443545e+05</td>\n",
              "      <td>4.129668e+06</td>\n",
              "      <td>5.530938</td>\n",
              "      <td>2.954545</td>\n",
              "      <td>31.424875</td>\n",
              "      <td>1015.330000</td>\n",
              "      <td>1.435125e+08</td>\n",
              "      <td>0.005085</td>\n",
              "      <td>1.345875</td>\n",
              "      <td>8.916457</td>\n",
              "      <td>4.406465</td>\n",
              "      <td>0.872344</td>\n",
              "      <td>2.872438e+05</td>\n",
              "      <td>2.679085e+05</td>\n",
              "      <td>1.750000</td>\n",
              "    </tr>\n",
              "    <tr>\n",
              "      <th>50%</th>\n",
              "      <td>20.500000</td>\n",
              "      <td>-0.000825</td>\n",
              "      <td>0.208430</td>\n",
              "      <td>-0.015432</td>\n",
              "      <td>-0.026010</td>\n",
              "      <td>0.509039</td>\n",
              "      <td>4.924720</td>\n",
              "      <td>0.972716</td>\n",
              "      <td>-0.789900</td>\n",
              "      <td>-0.120765</td>\n",
              "      <td>0.066486</td>\n",
              "      <td>0.103162</td>\n",
              "      <td>-0.030471</td>\n",
              "      <td>0.148449</td>\n",
              "      <td>-0.000313</td>\n",
              "      <td>201.347000</td>\n",
              "      <td>16.830450</td>\n",
              "      <td>201.622000</td>\n",
              "      <td>202.000000</td>\n",
              "      <td>0.195742</td>\n",
              "      <td>2.932890</td>\n",
              "      <td>263.000000</td>\n",
              "      <td>171.000000</td>\n",
              "      <td>191.000000</td>\n",
              "      <td>215.000000</td>\n",
              "      <td>198.783000</td>\n",
              "      <td>197.520000</td>\n",
              "      <td>12.723750</td>\n",
              "      <td>211.822500</td>\n",
              "      <td>0.323171</td>\n",
              "      <td>0.154706</td>\n",
              "      <td>0.323541</td>\n",
              "      <td>0.327663</td>\n",
              "      <td>-0.038476</td>\n",
              "      <td>3.158080</td>\n",
              "      <td>0.839399</td>\n",
              "      <td>-0.053291</td>\n",
              "      <td>0.233403</td>\n",
              "      <td>0.496621</td>\n",
              "      <td>0.415490</td>\n",
              "      <td>...</td>\n",
              "      <td>16.175000</td>\n",
              "      <td>31.436600</td>\n",
              "      <td>1015.740000</td>\n",
              "      <td>1.973030e+09</td>\n",
              "      <td>0.023287</td>\n",
              "      <td>6.915845</td>\n",
              "      <td>48.901950</td>\n",
              "      <td>22.473850</td>\n",
              "      <td>3.871090</td>\n",
              "      <td>3.885290e+06</td>\n",
              "      <td>1.931475e+06</td>\n",
              "      <td>1.954185e+06</td>\n",
              "      <td>5.667420e+07</td>\n",
              "      <td>25.126350</td>\n",
              "      <td>14.098950</td>\n",
              "      <td>31.436600</td>\n",
              "      <td>1015.740000</td>\n",
              "      <td>1.973170e+09</td>\n",
              "      <td>0.004423</td>\n",
              "      <td>5.135485</td>\n",
              "      <td>42.065500</td>\n",
              "      <td>16.091250</td>\n",
              "      <td>0.623644</td>\n",
              "      <td>3.885570e+06</td>\n",
              "      <td>1.931460e+06</td>\n",
              "      <td>1.207120e+06</td>\n",
              "      <td>3.500790e+07</td>\n",
              "      <td>19.860300</td>\n",
              "      <td>10.713250</td>\n",
              "      <td>31.436600</td>\n",
              "      <td>1015.740000</td>\n",
              "      <td>1.218840e+09</td>\n",
              "      <td>0.017072</td>\n",
              "      <td>4.844600</td>\n",
              "      <td>32.761550</td>\n",
              "      <td>15.043550</td>\n",
              "      <td>2.941755</td>\n",
              "      <td>2.400135e+06</td>\n",
              "      <td>1.193080e+06</td>\n",
              "      <td>2.500000</td>\n",
              "    </tr>\n",
              "    <tr>\n",
              "      <th>75%</th>\n",
              "      <td>30.250000</td>\n",
              "      <td>0.009368</td>\n",
              "      <td>0.414216</td>\n",
              "      <td>0.001261</td>\n",
              "      <td>-0.002398</td>\n",
              "      <td>1.455420</td>\n",
              "      <td>8.153475</td>\n",
              "      <td>1.838640</td>\n",
              "      <td>-0.334751</td>\n",
              "      <td>-0.066397</td>\n",
              "      <td>0.222518</td>\n",
              "      <td>0.194574</td>\n",
              "      <td>0.121349</td>\n",
              "      <td>0.295267</td>\n",
              "      <td>0.000543</td>\n",
              "      <td>235.934750</td>\n",
              "      <td>30.885875</td>\n",
              "      <td>236.252000</td>\n",
              "      <td>236.000000</td>\n",
              "      <td>0.930968</td>\n",
              "      <td>5.348100</td>\n",
              "      <td>317.000000</td>\n",
              "      <td>199.000000</td>\n",
              "      <td>222.000000</td>\n",
              "      <td>251.500000</td>\n",
              "      <td>234.985000</td>\n",
              "      <td>233.701500</td>\n",
              "      <td>21.152000</td>\n",
              "      <td>239.333750</td>\n",
              "      <td>0.605576</td>\n",
              "      <td>0.479550</td>\n",
              "      <td>0.614716</td>\n",
              "      <td>0.618699</td>\n",
              "      <td>0.396518</td>\n",
              "      <td>4.865010</td>\n",
              "      <td>1.605400</td>\n",
              "      <td>0.229249</td>\n",
              "      <td>0.444670</td>\n",
              "      <td>0.943880</td>\n",
              "      <td>0.767409</td>\n",
              "      <td>...</td>\n",
              "      <td>151.106750</td>\n",
              "      <td>31.439600</td>\n",
              "      <td>1015.840000</td>\n",
              "      <td>2.071058e+10</td>\n",
              "      <td>0.121796</td>\n",
              "      <td>55.552675</td>\n",
              "      <td>447.342250</td>\n",
              "      <td>176.884000</td>\n",
              "      <td>14.124500</td>\n",
              "      <td>4.078655e+07</td>\n",
              "      <td>1.050445e+07</td>\n",
              "      <td>2.044002e+07</td>\n",
              "      <td>5.948548e+08</td>\n",
              "      <td>262.329500</td>\n",
              "      <td>149.370250</td>\n",
              "      <td>31.439600</td>\n",
              "      <td>1015.840000</td>\n",
              "      <td>2.070875e+10</td>\n",
              "      <td>0.053278</td>\n",
              "      <td>53.280500</td>\n",
              "      <td>436.219250</td>\n",
              "      <td>161.868000</td>\n",
              "      <td>6.050358</td>\n",
              "      <td>4.078300e+07</td>\n",
              "      <td>1.050498e+07</td>\n",
              "      <td>1.262598e+07</td>\n",
              "      <td>3.674448e+08</td>\n",
              "      <td>167.559500</td>\n",
              "      <td>93.915625</td>\n",
              "      <td>31.439600</td>\n",
              "      <td>1015.840000</td>\n",
              "      <td>1.279192e+10</td>\n",
              "      <td>0.085110</td>\n",
              "      <td>35.001100</td>\n",
              "      <td>277.930000</td>\n",
              "      <td>112.850000</td>\n",
              "      <td>10.233175</td>\n",
              "      <td>2.519182e+07</td>\n",
              "      <td>6.489048e+06</td>\n",
              "      <td>3.250000</td>\n",
              "    </tr>\n",
              "    <tr>\n",
              "      <th>max</th>\n",
              "      <td>40.000000</td>\n",
              "      <td>3.920770</td>\n",
              "      <td>3.985120</td>\n",
              "      <td>4.076450</td>\n",
              "      <td>4.544780</td>\n",
              "      <td>9.045220</td>\n",
              "      <td>116.388000</td>\n",
              "      <td>4.644590</td>\n",
              "      <td>3.557610</td>\n",
              "      <td>4.041960</td>\n",
              "      <td>4.580670</td>\n",
              "      <td>4.241640</td>\n",
              "      <td>254.954000</td>\n",
              "      <td>3.914090</td>\n",
              "      <td>0.263271</td>\n",
              "      <td>355.815000</td>\n",
              "      <td>387.170000</td>\n",
              "      <td>355.952000</td>\n",
              "      <td>357.500000</td>\n",
              "      <td>10.234000</td>\n",
              "      <td>107.164000</td>\n",
              "      <td>2333.000000</td>\n",
              "      <td>334.000000</td>\n",
              "      <td>350.500000</td>\n",
              "      <td>362.500000</td>\n",
              "      <td>355.663000</td>\n",
              "      <td>355.511000</td>\n",
              "      <td>192.379000</td>\n",
              "      <td>340.723000</td>\n",
              "      <td>3.883150</td>\n",
              "      <td>4.068180</td>\n",
              "      <td>4.068780</td>\n",
              "      <td>4.337880</td>\n",
              "      <td>8.934390</td>\n",
              "      <td>88.629700</td>\n",
              "      <td>4.643700</td>\n",
              "      <td>3.566610</td>\n",
              "      <td>3.942130</td>\n",
              "      <td>4.556780</td>\n",
              "      <td>4.195200</td>\n",
              "      <td>...</td>\n",
              "      <td>1426.840000</td>\n",
              "      <td>31.516900</td>\n",
              "      <td>1018.410000</td>\n",
              "      <td>1.981830e+11</td>\n",
              "      <td>7.887770</td>\n",
              "      <td>508.064000</td>\n",
              "      <td>4161.110000</td>\n",
              "      <td>1587.050000</td>\n",
              "      <td>210.950000</td>\n",
              "      <td>3.902940e+08</td>\n",
              "      <td>1.922930e+08</td>\n",
              "      <td>1.956030e+08</td>\n",
              "      <td>5.692370e+09</td>\n",
              "      <td>2480.730000</td>\n",
              "      <td>1422.610000</td>\n",
              "      <td>31.515600</td>\n",
              "      <td>1018.630000</td>\n",
              "      <td>1.981830e+11</td>\n",
              "      <td>7.613350</td>\n",
              "      <td>505.285000</td>\n",
              "      <td>4143.780000</td>\n",
              "      <td>1547.610000</td>\n",
              "      <td>219.461000</td>\n",
              "      <td>3.902940e+08</td>\n",
              "      <td>1.922940e+08</td>\n",
              "      <td>1.208250e+08</td>\n",
              "      <td>3.516210e+09</td>\n",
              "      <td>1548.530000</td>\n",
              "      <td>882.666000</td>\n",
              "      <td>31.515600</td>\n",
              "      <td>1018.630000</td>\n",
              "      <td>1.224190e+11</td>\n",
              "      <td>5.710930</td>\n",
              "      <td>320.499000</td>\n",
              "      <td>2605.500000</td>\n",
              "      <td>989.677000</td>\n",
              "      <td>138.119000</td>\n",
              "      <td>2.410860e+08</td>\n",
              "      <td>1.187810e+08</td>\n",
              "      <td>4.000000</td>\n",
              "    </tr>\n",
              "  </tbody>\n",
              "</table>\n",
              "<p>8 rows × 535 columns</p>\n",
              "</div>\n",
              "      <button class=\"colab-df-convert\" onclick=\"convertToInteractive('df-07cce963-a6ee-4265-86dc-756d24b97c40')\"\n",
              "              title=\"Convert this dataframe to an interactive table.\"\n",
              "              style=\"display:none;\">\n",
              "        \n",
              "  <svg xmlns=\"http://www.w3.org/2000/svg\" height=\"24px\"viewBox=\"0 0 24 24\"\n",
              "       width=\"24px\">\n",
              "    <path d=\"M0 0h24v24H0V0z\" fill=\"none\"/>\n",
              "    <path d=\"M18.56 5.44l.94 2.06.94-2.06 2.06-.94-2.06-.94-.94-2.06-.94 2.06-2.06.94zm-11 1L8.5 8.5l.94-2.06 2.06-.94-2.06-.94L8.5 2.5l-.94 2.06-2.06.94zm10 10l.94 2.06.94-2.06 2.06-.94-2.06-.94-.94-2.06-.94 2.06-2.06.94z\"/><path d=\"M17.41 7.96l-1.37-1.37c-.4-.4-.92-.59-1.43-.59-.52 0-1.04.2-1.43.59L10.3 9.45l-7.72 7.72c-.78.78-.78 2.05 0 2.83L4 21.41c.39.39.9.59 1.41.59.51 0 1.02-.2 1.41-.59l7.78-7.78 2.81-2.81c.8-.78.8-2.07 0-2.86zM5.41 20L4 18.59l7.72-7.72 1.47 1.35L5.41 20z\"/>\n",
              "  </svg>\n",
              "      </button>\n",
              "      \n",
              "  <style>\n",
              "    .colab-df-container {\n",
              "      display:flex;\n",
              "      flex-wrap:wrap;\n",
              "      gap: 12px;\n",
              "    }\n",
              "\n",
              "    .colab-df-convert {\n",
              "      background-color: #E8F0FE;\n",
              "      border: none;\n",
              "      border-radius: 50%;\n",
              "      cursor: pointer;\n",
              "      display: none;\n",
              "      fill: #1967D2;\n",
              "      height: 32px;\n",
              "      padding: 0 0 0 0;\n",
              "      width: 32px;\n",
              "    }\n",
              "\n",
              "    .colab-df-convert:hover {\n",
              "      background-color: #E2EBFA;\n",
              "      box-shadow: 0px 1px 2px rgba(60, 64, 67, 0.3), 0px 1px 3px 1px rgba(60, 64, 67, 0.15);\n",
              "      fill: #174EA6;\n",
              "    }\n",
              "\n",
              "    [theme=dark] .colab-df-convert {\n",
              "      background-color: #3B4455;\n",
              "      fill: #D2E3FC;\n",
              "    }\n",
              "\n",
              "    [theme=dark] .colab-df-convert:hover {\n",
              "      background-color: #434B5C;\n",
              "      box-shadow: 0px 1px 3px 1px rgba(0, 0, 0, 0.15);\n",
              "      filter: drop-shadow(0px 1px 2px rgba(0, 0, 0, 0.3));\n",
              "      fill: #FFFFFF;\n",
              "    }\n",
              "  </style>\n",
              "\n",
              "      <script>\n",
              "        const buttonEl =\n",
              "          document.querySelector('#df-07cce963-a6ee-4265-86dc-756d24b97c40 button.colab-df-convert');\n",
              "        buttonEl.style.display =\n",
              "          google.colab.kernel.accessAllowed ? 'block' : 'none';\n",
              "\n",
              "        async function convertToInteractive(key) {\n",
              "          const element = document.querySelector('#df-07cce963-a6ee-4265-86dc-756d24b97c40');\n",
              "          const dataTable =\n",
              "            await google.colab.kernel.invokeFunction('convertToInteractive',\n",
              "                                                     [key], {});\n",
              "          if (!dataTable) return;\n",
              "\n",
              "          const docLinkHtml = 'Like what you see? Visit the ' +\n",
              "            '<a target=\"_blank\" href=https://colab.research.google.com/notebooks/data_table.ipynb>data table notebook</a>'\n",
              "            + ' to learn more about interactive tables.';\n",
              "          element.innerHTML = '';\n",
              "          dataTable['output_type'] = 'display_data';\n",
              "          await google.colab.output.renderOutput(dataTable, element);\n",
              "          const docLink = document.createElement('div');\n",
              "          docLink.innerHTML = docLinkHtml;\n",
              "          element.appendChild(docLink);\n",
              "        }\n",
              "      </script>\n",
              "    </div>\n",
              "  </div>\n",
              "  "
            ],
            "text/plain": [
              "       Subject index (1-40)  ...  Activity: 1-neutral, 2-emotional, 3-mental and 4-physical\n",
              "count           4480.000000  ...                                        4480.000000        \n",
              "mean              20.500000  ...                                           2.500000        \n",
              "std               11.544685  ...                                           1.118159        \n",
              "min                1.000000  ...                                           1.000000        \n",
              "25%               10.750000  ...                                           1.750000        \n",
              "50%               20.500000  ...                                           2.500000        \n",
              "75%               30.250000  ...                                           3.250000        \n",
              "max               40.000000  ...                                           4.000000        \n",
              "\n",
              "[8 rows x 535 columns]"
            ]
          },
          "metadata": {},
          "execution_count": 12
        }
      ]
    },
    {
      "cell_type": "markdown",
      "source": [
        "Let's check for NaN in dataframe."
      ],
      "metadata": {
        "id": "ljsuLTwtp6Qa"
      }
    },
    {
      "cell_type": "code",
      "source": [
        "print(f'we have {data.isnull().sum().sum()} NaN in our dataset.')"
      ],
      "metadata": {
        "colab": {
          "base_uri": "https://localhost:8080/"
        },
        "id": "CXdm9FBAp0v4",
        "outputId": "aa730eda-e87a-4f36-e457-e7c6863d06f2"
      },
      "execution_count": null,
      "outputs": [
        {
          "output_type": "stream",
          "name": "stdout",
          "text": [
            "we have 0 NaN in our dataset.\n"
          ]
        }
      ]
    },
    {
      "cell_type": "markdown",
      "source": [
        "let's remove first column, because it's index of the subject."
      ],
      "metadata": {
        "id": "SXfRw97_hhgg"
      }
    },
    {
      "cell_type": "code",
      "source": [
        "data.drop('Subject index (1-40)', axis=1, inplace=True)\n",
        "\n",
        "print(f'data shape : {data.shape}')"
      ],
      "metadata": {
        "colab": {
          "base_uri": "https://localhost:8080/"
        },
        "id": "aOIPoM8Zhpr5",
        "outputId": "3fea6c9a-6ebd-46db-f2df-fb42c8cd3da6"
      },
      "execution_count": null,
      "outputs": [
        {
          "output_type": "stream",
          "name": "stdout",
          "text": [
            "data shape : (4480, 534)\n"
          ]
        }
      ]
    },
    {
      "cell_type": "markdown",
      "source": [
        "### Split X and y"
      ],
      "metadata": {
        "id": "wRSNGi-g6Guk"
      }
    },
    {
      "cell_type": "code",
      "source": [
        "# change name of laste column into `label`\n",
        "data = data.rename(columns={'Activity: 1-neutral, 2-emotional, 3-mental and 4-physical': 'label'})\n",
        "\n",
        "y = data['label']\n",
        "X = data.drop('label', axis=1)\n",
        "\n",
        "print (f'y shape : {y.shape}')\n",
        "print (f'X shape : {X.shape}')"
      ],
      "metadata": {
        "id": "pqdMFw-3HqMb",
        "colab": {
          "base_uri": "https://localhost:8080/"
        },
        "outputId": "6d69fed9-77c2-452f-850c-f3c255cca890"
      },
      "execution_count": null,
      "outputs": [
        {
          "output_type": "stream",
          "name": "stdout",
          "text": [
            "y shape : (4480,)\n",
            "X shape : (4480, 533)\n"
          ]
        }
      ]
    },
    {
      "cell_type": "markdown",
      "source": [
        "As wee seen, we have balanced dataset."
      ],
      "metadata": {
        "id": "H6p_BnX7ft9T"
      }
    },
    {
      "cell_type": "code",
      "source": [
        "y.value_counts()"
      ],
      "metadata": {
        "colab": {
          "base_uri": "https://localhost:8080/"
        },
        "id": "4X0ox_puJrGO",
        "outputId": "70262749-c475-42bd-b2a5-80e20163b455"
      },
      "execution_count": null,
      "outputs": [
        {
          "output_type": "execute_result",
          "data": {
            "text/plain": [
              "3    1120\n",
              "2    1120\n",
              "1    1120\n",
              "4    1120\n",
              "Name: label, dtype: int64"
            ]
          },
          "metadata": {},
          "execution_count": 17
        }
      ]
    },
    {
      "cell_type": "markdown",
      "source": [
        "In the below, we saw distribution of first 18 features. As we can see, they have gaussian distribution, so it's better to perform standardization on dataset."
      ],
      "metadata": {
        "id": "9eAdfClwi60x"
      }
    },
    {
      "cell_type": "code",
      "source": [
        "for idx, i in enumerate(data.columns[:18]):\n",
        "  plt.subplot(6, 3, idx+1) \n",
        "  plt.hist(data[i])\n",
        "  plt.tight_layout() \n",
        "plt.show()"
      ],
      "metadata": {
        "colab": {
          "base_uri": "https://localhost:8080/",
          "height": 297
        },
        "id": "mUINmVbM_tI0",
        "outputId": "abfb4753-4b0a-479f-efa6-1cd427f96c29"
      },
      "execution_count": null,
      "outputs": [
        {
          "output_type": "display_data",
          "data": {
            "image/png": "[encoded data removed]",
            "text/plain": [
              "<Figure size 432x288 with 18 Axes>"
            ]
          },
          "metadata": {
            "needs_background": "light"
          }
        }
      ]
    },
    {
      "cell_type": "markdown",
      "source": [
        "### Split train and test dataset"
      ],
      "metadata": {
        "id": "EU5OZEQGrHnr"
      }
    },
    {
      "cell_type": "code",
      "source": [
        "from sklearn.model_selection import train_test_split\n",
        "\n",
        "X_train, X_test, y_train, y_test = train_test_split(X, y, test_size=0.2, random_state=42)\n",
        "print(f'X_train shape: {X_train.shape}')\n",
        "print(f'X_test shape: {X_test.shape}')\n",
        "print(f'y_train shape: {y_train.shape}')\n",
        "print(f'y_test shape: {y_test.shape}')"
      ],
      "metadata": {
        "colab": {
          "base_uri": "https://localhost:8080/"
        },
        "id": "8KaHkP6BrK_8",
        "outputId": "8ec05f10-786d-43a6-edaf-06b0bf84ef96"
      },
      "execution_count": null,
      "outputs": [
        {
          "output_type": "stream",
          "name": "stdout",
          "text": [
            "X_train shape: (3584, 533)\n",
            "X_test shape: (896, 533)\n",
            "y_train shape: (3584,)\n",
            "y_test shape: (896,)\n"
          ]
        }
      ]
    },
    {
      "cell_type": "markdown",
      "source": [
        "### Standardization"
      ],
      "metadata": {
        "id": "OwsmEFKbqOB3"
      }
    },
    {
      "cell_type": "code",
      "source": [
        "from sklearn.preprocessing import StandardScaler\n",
        "sc = StandardScaler()\n",
        "X_train = sc.fit_transform(X_train)\n",
        "X_test = sc.transform(X_test)"
      ],
      "metadata": {
        "id": "J4EfjFoXo9-J"
      },
      "execution_count": null,
      "outputs": []
    },
    {
      "cell_type": "markdown",
      "source": [
        "We can see that distribution of our dataset have mean=0 in all features,"
      ],
      "metadata": {
        "id": "1Z909GzKHYNd"
      }
    },
    {
      "cell_type": "code",
      "source": [
        "for i in range(1, 19):\n",
        "    plt.subplot(6, 3, i)\n",
        "    plt.hist(X_train[:,i])\n",
        "    plt.tight_layout()\n",
        "plt.show()"
      ],
      "metadata": {
        "colab": {
          "base_uri": "https://localhost:8080/",
          "height": 297
        },
        "id": "s6SDRFCHFdjj",
        "outputId": "2fe48756-83de-4bfc-f25e-bcfe782d8bd1"
      },
      "execution_count": null,
      "outputs": [
        {
          "output_type": "display_data",
          "data": {
            "image/png": "[encoded data removed]",
            "text/plain": [
              "<Figure size 432x288 with 18 Axes>"
            ]
          },
          "metadata": {
            "needs_background": "light"
          }
        }
      ]
    },
    {
      "cell_type": "code",
      "source": [
        "X_train"
      ],
      "metadata": {
        "colab": {
          "base_uri": "https://localhost:8080/"
        },
        "id": "bQNVu-f-t3gu",
        "outputId": "53142b0e-8a39-4fd6-8736-58a01c17fe9c"
      },
      "execution_count": null,
      "outputs": [
        {
          "output_type": "execute_result",
          "data": {
            "text/plain": [
              "array([[-0.15392825, -0.42490069, -0.17890873, ..., -0.22773846,\n",
              "        -0.43392092, -0.44116821],\n",
              "       [-0.1692091 , -0.54966696, -0.168575  , ..., -0.5230204 ,\n",
              "        -0.50789915, -0.45944318],\n",
              "       [-0.1687479 , -0.47330904, -0.18214592, ..., -0.22645924,\n",
              "        -0.43729604, -0.40295913],\n",
              "       ...,\n",
              "       [-0.55358893, -0.4368414 , -0.44338296, ..., -0.53078631,\n",
              "        -0.51379457, -0.46210204],\n",
              "       [ 0.05596907, -0.33455923,  0.04313537, ..., -0.00228345,\n",
              "        -0.43415551, -0.44043639],\n",
              "       [-0.14178845, -0.62701745, -0.13012095, ..., -0.47253073,\n",
              "        -0.51054695, -0.44718107]])"
            ]
          },
          "metadata": {},
          "execution_count": 35
        }
      ]
    },
    {
      "cell_type": "markdown",
      "source": [
        "## Decision Tree Classifier"
      ],
      "metadata": {
        "id": "_MsRuoG2uwlG"
      }
    },
    {
      "cell_type": "code",
      "source": [
        "from sklearn.tree import DecisionTreeClassifier \n",
        "from sklearn.model_selection import cross_val_score\n",
        "\n",
        "criterion = ['gini', 'entropy'] # default=”gini”\n",
        "\n",
        "for criteria in criterion:\n",
        "  dt = DecisionTreeClassifier(criterion=criteria, random_state=42)\n",
        "  scores = cross_val_score(dt, X_train, y_train, cv=5)\n",
        "  print(f'for {criteria} : accuracy {scores.mean()}')\n"
      ],
      "metadata": {
        "colab": {
          "base_uri": "https://localhost:8080/"
        },
        "id": "IHylnQXFt5mo",
        "outputId": "93d8e7c0-c0dd-49b4-e9f0-e4a79d0aaaf6"
      },
      "execution_count": null,
      "outputs": [
        {
          "output_type": "stream",
          "name": "stdout",
          "text": [
            "for gini : accuracy 0.8973150074409979\n",
            "for entropy : accuracy 0.9232739611821448\n"
          ]
        }
      ]
    },
    {
      "cell_type": "markdown",
      "source": [
        "as we can see entropy is better, becasue it has higher accuraty than gini."
      ],
      "metadata": {
        "id": "ALGQdg-PTzEb"
      }
    },
    {
      "cell_type": "code",
      "source": [
        "splitter = ['best', 'random'] # default=”best”\n",
        "\n",
        "for split in splitter:\n",
        "  dt = DecisionTreeClassifier(splitter=split, random_state=42)\n",
        "  scores = cross_val_score(dt, X_train, y_train, cv=5)\n",
        "  print(f'for {split} : accuracy {scores.mean()}')"
      ],
      "metadata": {
        "id": "gqpmC2PYwoMt",
        "colab": {
          "base_uri": "https://localhost:8080/"
        },
        "outputId": "feed33de-6992-4ba5-acfb-18be00cc255e"
      },
      "execution_count": null,
      "outputs": [
        {
          "output_type": "stream",
          "name": "stdout",
          "text": [
            "for best : accuracy 0.8973150074409979\n",
            "for random : accuracy 0.917685421098151\n"
          ]
        }
      ]
    },
    {
      "cell_type": "markdown",
      "source": [
        "random is better than best for splitter."
      ],
      "metadata": {
        "id": "mfSTuw9My9RF"
      }
    },
    {
      "cell_type": "markdown",
      "source": [
        "from depth >=30 the accuracy doesn't change. so we chosse depth=30 because it has simpler complexity."
      ],
      "metadata": {
        "id": "Xk2vCoZ2ZewK"
      }
    },
    {
      "cell_type": "code",
      "source": [
        "max_depth = [4,5,6,7,8,9,10, 20, 30, 40, 50, 60, 100, 150, 200, 300]\n",
        "\n",
        "for depth in max_depth:\n",
        "  dt = DecisionTreeClassifier(max_depth=depth, random_state=42)\n",
        "  scores = cross_val_score(dt, X_train, y_train, cv=5)\n",
        "  print(f'for depth {depth} : accuracy {scores.mean()}')"
      ],
      "metadata": {
        "colab": {
          "base_uri": "https://localhost:8080/"
        },
        "id": "uqj868CiUsGd",
        "outputId": "d745f011-ce5c-4633-d876-5e54c03bfe52"
      },
      "execution_count": null,
      "outputs": [
        {
          "output_type": "stream",
          "name": "stdout",
          "text": [
            "for depth 4 : accuracy 0.7229334673492127\n",
            "for depth 5 : accuracy 0.7538977583506696\n",
            "for depth 6 : accuracy 0.7784522724262328\n",
            "for depth 7 : accuracy 0.8108159385396944\n",
            "for depth 8 : accuracy 0.8339757524757875\n",
            "for depth 9 : accuracy 0.8557408662724107\n",
            "for depth 10 : accuracy 0.8741563622480385\n",
            "for depth 20 : accuracy 0.8967575169662545\n",
            "for depth 30 : accuracy 0.8973150074409979\n",
            "for depth 40 : accuracy 0.8973150074409979\n",
            "for depth 50 : accuracy 0.8973150074409979\n",
            "for depth 60 : accuracy 0.8973150074409979\n",
            "for depth 100 : accuracy 0.8973150074409979\n",
            "for depth 150 : accuracy 0.8973150074409979\n",
            "for depth 200 : accuracy 0.8973150074409979\n",
            "for depth 300 : accuracy 0.8973150074409979\n"
          ]
        }
      ]
    },
    {
      "cell_type": "markdown",
      "source": [
        "Let's train the model on the best parameters."
      ],
      "metadata": {
        "id": "Z1woDnytDcVW"
      }
    },
    {
      "cell_type": "code",
      "source": [
        "dt = DecisionTreeClassifier(criterion = 'entropy', splitter='random', max_depth=30,random_state=42)\n",
        "dt = dt.fit(X_train,y_train)\n",
        "\n",
        "y_pred = dt.predict(X_test)"
      ],
      "metadata": {
        "id": "GRZNAzvCUtA2"
      },
      "execution_count": null,
      "outputs": []
    },
    {
      "cell_type": "code",
      "source": [
        "print(f'10 first elements of y_pred : {y_pred[:10]}')"
      ],
      "metadata": {
        "colab": {
          "base_uri": "https://localhost:8080/"
        },
        "id": "zBDvUSr1aEDc",
        "outputId": "76d2e824-7c81-4cef-c1f6-768ff9725d1e"
      },
      "execution_count": null,
      "outputs": [
        {
          "output_type": "stream",
          "name": "stdout",
          "text": [
            "10 first elements of y_pred : [2 2 1 4 3 4 2 2 3 4]\n"
          ]
        }
      ]
    },
    {
      "cell_type": "markdown",
      "source": [
        "Let's plot our decision tree classifier."
      ],
      "metadata": {
        "id": "VRTw8Q93zsZ_"
      }
    },
    {
      "cell_type": "code",
      "source": [
        "from sklearn import tree\n",
        "plt.figure(figsize=(25, 10))\n",
        "a = tree.plot_tree(dt)\n",
        "plt.show()"
      ],
      "metadata": {
        "colab": {
          "base_uri": "https://localhost:8080/",
          "height": 451
        },
        "id": "A0PD9c65aFFp",
        "outputId": "936ca2ab-7ced-44de-f5ca-931653481619"
      },
      "execution_count": null,
      "outputs": [
        {
          "output_type": "display_data",
          "data": {
            "image/png": "[encoded data removed]",
            "text/plain": [
              "<Figure size 1800x720 with 1 Axes>"
            ]
          },
          "metadata": {
            "needs_background": "light"
          }
        }
      ]
    },
    {
      "cell_type": "code",
      "source": [
        "print(f'decision tree accuracy on train set: {dt.score(X_train, y_train)}')\n",
        "print(f'decision tree accuracy on test set : {dt.score(X_test, y_test)}')"
      ],
      "metadata": {
        "colab": {
          "base_uri": "https://localhost:8080/"
        },
        "id": "h_eluhIidaUj",
        "outputId": "318fb85d-f3a1-45b3-945b-d03f6661c062"
      },
      "execution_count": null,
      "outputs": [
        {
          "output_type": "stream",
          "name": "stdout",
          "text": [
            "decistion tree accuracy on train set: 1.0\n",
            "decistion tree accuracy on test set : 0.9486607142857143\n"
          ]
        }
      ]
    },
    {
      "cell_type": "code",
      "source": [
        "from sklearn.metrics import classification_report\n",
        "print(classification_report(y_test, y_pred))"
      ],
      "metadata": {
        "colab": {
          "base_uri": "https://localhost:8080/"
        },
        "id": "h9SbcIY5a60f",
        "outputId": "c88d7809-3e85-406c-e2f8-4013004e26ed"
      },
      "execution_count": null,
      "outputs": [
        {
          "output_type": "stream",
          "name": "stdout",
          "text": [
            "              precision    recall  f1-score   support\n",
            "\n",
            "           1       0.98      0.95      0.97       224\n",
            "           2       0.92      0.93      0.92       226\n",
            "           3       0.90      0.93      0.92       216\n",
            "           4       0.99      0.99      0.99       230\n",
            "\n",
            "    accuracy                           0.95       896\n",
            "   macro avg       0.95      0.95      0.95       896\n",
            "weighted avg       0.95      0.95      0.95       896\n",
            "\n"
          ]
        }
      ]
    },
    {
      "cell_type": "markdown",
      "source": [
        "Let's define a function for plotting confusion matrix."
      ],
      "metadata": {
        "id": "q_ZNW2590exc"
      }
    },
    {
      "cell_type": "code",
      "source": [
        "import seaborn as sns\n",
        "def confusion_matrix(y_test, y_pred):\n",
        "    df_cm = pd.DataFrame(metrics.confusion_matrix(y_test, y_pred), index = [1,2,3,4],\n",
        "                  columns = [1,2,3,4])\n",
        "    sns.heatmap(df_cm, annot=True, cmap=\"YlGnBu\" ,fmt='g')\n",
        "    plt.title('Confusion matrix', y=1.1)\n",
        "    plt.ylabel('Actual label')\n",
        "    plt.xlabel('Predicted label')\n",
        "    plt.show()  "
      ],
      "metadata": {
        "id": "cxgIG1fOfO7l"
      },
      "execution_count": null,
      "outputs": []
    },
    {
      "cell_type": "code",
      "source": [
        "confusion_matrix(y_test, y_pred)"
      ],
      "metadata": {
        "colab": {
          "base_uri": "https://localhost:8080/",
          "height": 295
        },
        "id": "ik6LBgfSh1cX",
        "outputId": "79e84f41-5742-446f-bf82-3e09bb5ada3a"
      },
      "execution_count": null,
      "outputs": [
        {
          "output_type": "display_data",
          "data": {
            "image/png": "[encoded data removed]",
            "text/plain": [
              "<Figure size 432x288 with 2 Axes>"
            ]
          },
          "metadata": {
            "needs_background": "light"
          }
        }
      ]
    },
    {
      "cell_type": "markdown",
      "source": [
        "## Random Forest Classifier"
      ],
      "metadata": {
        "id": "VFfcCv2E4wSO"
      }
    },
    {
      "cell_type": "markdown",
      "source": [
        "شاید تعجب برانگیر باشد اما اجرای این قطعه کد دو ساعت طول کشید!!!"
      ],
      "metadata": {
        "id": "6M9L9dKigeyd"
      }
    },
    {
      "cell_type": "code",
      "source": [
        "criterion = ['gini', 'entropy'] # default=”gini”\n",
        "max_samples = [0.33, 0.5, 1.0]\n",
        "n_estimators = [50, 100, 200, 400,600]\n",
        "max_depth = [5,10,50, 100, 200, 300]\n",
        "\n",
        "for criteria in criterion:\n",
        "  for samples in max_samples:\n",
        "    for estimators in n_estimators:\n",
        "      for depth in max_depth:\n",
        "\n",
        "        rf = RandomForestClassifier(criterion=criteria, n_estimators=estimators, max_samples=samples, max_depth=depth, random_state=42)\n",
        "        scores = cross_val_score(rf, X_train, y_train, cv=5)\n",
        "        print(f'criteria :{criteria}| max_samples : {samples}| N_estimators: {estimators}| depth: {depth} => accuracy {scores.mean()}')"
      ],
      "metadata": {
        "colab": {
          "base_uri": "https://localhost:8080/"
        },
        "id": "kYIzHZIw8I0A",
        "outputId": "4894fe35-1146-4548-b3bd-7a043ffb21ff"
      },
      "execution_count": null,
      "outputs": [
        {
          "output_type": "stream",
          "name": "stdout",
          "text": [
            "criteria :gini| max_samples : 0.33| N_estimators: 50| depth: 5 => accuracy 0.8094263029538036\n",
            "criteria :gini| max_samples : 0.33| N_estimators: 50| depth: 10 => accuracy 0.9135005415176518\n",
            "criteria :gini| max_samples : 0.33| N_estimators: 50| depth: 50 => accuracy 0.9380546660121706\n",
            "criteria :gini| max_samples : 0.33| N_estimators: 50| depth: 100 => accuracy 0.9380546660121706\n",
            "criteria :gini| max_samples : 0.33| N_estimators: 50| depth: 200 => accuracy 0.9380546660121706\n",
            "criteria :gini| max_samples : 0.33| N_estimators: 50| depth: 300 => accuracy 0.9380546660121706\n",
            "criteria :gini| max_samples : 0.33| N_estimators: 100| depth: 5 => accuracy 0.8102611751322627\n",
            "criteria :gini| max_samples : 0.33| N_estimators: 100| depth: 10 => accuracy 0.9171279306234077\n",
            "criteria :gini| max_samples : 0.33| N_estimators: 100| depth: 50 => accuracy 0.9441913466258386\n",
            "criteria :gini| max_samples : 0.33| N_estimators: 100| depth: 100 => accuracy 0.9441913466258386\n",
            "criteria :gini| max_samples : 0.33| N_estimators: 100| depth: 200 => accuracy 0.9441913466258386\n",
            "criteria :gini| max_samples : 0.33| N_estimators: 100| depth: 300 => accuracy 0.9441913466258386\n",
            "criteria :gini| max_samples : 0.33| N_estimators: 200| depth: 5 => accuracy 0.8071916660822952\n",
            "criteria :gini| max_samples : 0.33| N_estimators: 200| depth: 10 => accuracy 0.920474821377091\n",
            "criteria :gini| max_samples : 0.33| N_estimators: 200| depth: 50 => accuracy 0.9506108630778461\n",
            "criteria :gini| max_samples : 0.33| N_estimators: 200| depth: 100 => accuracy 0.9506108630778461\n",
            "criteria :gini| max_samples : 0.33| N_estimators: 200| depth: 200 => accuracy 0.9506108630778461\n",
            "criteria :gini| max_samples : 0.33| N_estimators: 200| depth: 300 => accuracy 0.9506108630778461\n",
            "criteria :gini| max_samples : 0.33| N_estimators: 400| depth: 5 => accuracy 0.8083070366128264\n",
            "criteria :gini| max_samples : 0.33| N_estimators: 400| depth: 10 => accuracy 0.9215929189749342\n",
            "criteria :gini| max_samples : 0.33| N_estimators: 400| depth: 50 => accuracy 0.949773263832075\n",
            "criteria :gini| max_samples : 0.33| N_estimators: 400| depth: 100 => accuracy 0.949773263832075\n",
            "criteria :gini| max_samples : 0.33| N_estimators: 400| depth: 200 => accuracy 0.949773263832075\n",
            "criteria :gini| max_samples : 0.33| N_estimators: 400| depth: 300 => accuracy 0.949773263832075\n",
            "criteria :gini| max_samples : 0.33| N_estimators: 600| depth: 5 => accuracy 0.8083070366128267\n",
            "criteria :gini| max_samples : 0.33| N_estimators: 600| depth: 10 => accuracy 0.9252195289186009\n",
            "criteria :gini| max_samples : 0.33| N_estimators: 600| depth: 50 => accuracy 0.9489360541673484\n",
            "criteria :gini| max_samples : 0.33| N_estimators: 600| depth: 100 => accuracy 0.9489360541673484\n",
            "criteria :gini| max_samples : 0.33| N_estimators: 600| depth: 200 => accuracy 0.9489360541673484\n",
            "criteria :gini| max_samples : 0.33| N_estimators: 600| depth: 300 => accuracy 0.9489360541673484\n",
            "criteria :gini| max_samples : 0.5| N_estimators: 50| depth: 5 => accuracy 0.8133287362770079\n",
            "criteria :gini| max_samples : 0.5| N_estimators: 50| depth: 10 => accuracy 0.9215901919076226\n",
            "criteria :gini| max_samples : 0.5| N_estimators: 50| depth: 50 => accuracy 0.9584207942778337\n",
            "criteria :gini| max_samples : 0.5| N_estimators: 50| depth: 100 => accuracy 0.9584207942778337\n",
            "criteria :gini| max_samples : 0.5| N_estimators: 50| depth: 200 => accuracy 0.9584207942778337\n",
            "criteria :gini| max_samples : 0.5| N_estimators: 50| depth: 300 => accuracy 0.9584207942778337\n",
            "criteria :gini| max_samples : 0.5| N_estimators: 100| depth: 5 => accuracy 0.8102584480649508\n",
            "criteria :gini| max_samples : 0.5| N_estimators: 100| depth: 10 => accuracy 0.932471190481756\n",
            "criteria :gini| max_samples : 0.5| N_estimators: 100| depth: 50 => accuracy 0.9676304901708704\n",
            "criteria :gini| max_samples : 0.5| N_estimators: 100| depth: 100 => accuracy 0.9676304901708704\n",
            "criteria :gini| max_samples : 0.5| N_estimators: 100| depth: 200 => accuracy 0.9676304901708704\n",
            "criteria :gini| max_samples : 0.5| N_estimators: 100| depth: 300 => accuracy 0.9676304901708704\n",
            "criteria :gini| max_samples : 0.5| N_estimators: 200| depth: 5 => accuracy 0.8094220175623136\n",
            "criteria :gini| max_samples : 0.5| N_estimators: 200| depth: 10 => accuracy 0.9324723592248896\n",
            "criteria :gini| max_samples : 0.5| N_estimators: 200| depth: 50 => accuracy 0.9681899285508365\n",
            "criteria :gini| max_samples : 0.5| N_estimators: 200| depth: 100 => accuracy 0.9681899285508365\n",
            "criteria :gini| max_samples : 0.5| N_estimators: 200| depth: 200 => accuracy 0.9681899285508365\n",
            "criteria :gini| max_samples : 0.5| N_estimators: 200| depth: 300 => accuracy 0.9681899285508365\n",
            "criteria :gini| max_samples : 0.5| N_estimators: 400| depth: 5 => accuracy 0.8105385568359786\n",
            "criteria :gini| max_samples : 0.5| N_estimators: 400| depth: 10 => accuracy 0.9338662802022704\n",
            "criteria :gini| max_samples : 0.5| N_estimators: 400| depth: 50 => accuracy 0.9693056886624124\n",
            "criteria :gini| max_samples : 0.5| N_estimators: 400| depth: 100 => accuracy 0.9693056886624124\n",
            "criteria :gini| max_samples : 0.5| N_estimators: 400| depth: 200 => accuracy 0.9693056886624124\n",
            "criteria :gini| max_samples : 0.5| N_estimators: 400| depth: 300 => accuracy 0.9693056886624124\n",
            "criteria :gini| max_samples : 0.5| N_estimators: 600| depth: 5 => accuracy 0.8130494066680691\n",
            "criteria :gini| max_samples : 0.5| N_estimators: 600| depth: 10 => accuracy 0.9352629282469632\n",
            "criteria :gini| max_samples : 0.5| N_estimators: 600| depth: 50 => accuracy 0.9673531084671543\n",
            "criteria :gini| max_samples : 0.5| N_estimators: 600| depth: 100 => accuracy 0.9673531084671543\n",
            "criteria :gini| max_samples : 0.5| N_estimators: 600| depth: 200 => accuracy 0.9673531084671543\n",
            "criteria :gini| max_samples : 0.5| N_estimators: 600| depth: 300 => accuracy 0.9673531084671543\n",
            "criteria :gini| max_samples : 1.0| N_estimators: 50| depth: 5 => accuracy 0.8186317134553501\n",
            "criteria :gini| max_samples : 1.0| N_estimators: 50| depth: 10 => accuracy 0.9405659054253057\n",
            "criteria :gini| max_samples : 1.0| N_estimators: 50| depth: 50 => accuracy 0.9799100846949191\n",
            "criteria :gini| max_samples : 1.0| N_estimators: 50| depth: 100 => accuracy 0.9799100846949191\n",
            "criteria :gini| max_samples : 1.0| N_estimators: 50| depth: 200 => accuracy 0.9799100846949191\n",
            "criteria :gini| max_samples : 1.0| N_estimators: 50| depth: 300 => accuracy 0.9799100846949191\n",
            "criteria :gini| max_samples : 1.0| N_estimators: 100| depth: 5 => accuracy 0.818352773427456\n",
            "criteria :gini| max_samples : 1.0| N_estimators: 100| depth: 10 => accuracy 0.9422399351737143\n",
            "criteria :gini| max_samples : 1.0| N_estimators: 100| depth: 50 => accuracy 0.981304784834389\n",
            "criteria :gini| max_samples : 1.0| N_estimators: 100| depth: 100 => accuracy 0.981304784834389\n",
            "criteria :gini| max_samples : 1.0| N_estimators: 100| depth: 200 => accuracy 0.981304784834389\n",
            "criteria :gini| max_samples : 1.0| N_estimators: 100| depth: 300 => accuracy 0.981304784834389\n",
            "criteria :gini| max_samples : 1.0| N_estimators: 200| depth: 5 => accuracy 0.8205831249074744\n",
            "criteria :gini| max_samples : 1.0| N_estimators: 200| depth: 10 => accuracy 0.9427974256484577\n",
            "criteria :gini| max_samples : 1.0| N_estimators: 200| depth: 50 => accuracy 0.9818638336333108\n",
            "criteria :gini| max_samples : 1.0| N_estimators: 200| depth: 100 => accuracy 0.9818638336333108\n",
            "criteria :gini| max_samples : 1.0| N_estimators: 200| depth: 200 => accuracy 0.9818638336333108\n",
            "criteria :gini| max_samples : 1.0| N_estimators: 200| depth: 300 => accuracy 0.9818638336333108\n",
            "criteria :gini| max_samples : 1.0| N_estimators: 400| depth: 5 => accuracy 0.817514395019596\n",
            "criteria :gini| max_samples : 1.0| N_estimators: 400| depth: 10 => accuracy 0.9450297250336988\n",
            "criteria :gini| max_samples : 1.0| N_estimators: 400| depth: 50 => accuracy 0.981304784834389\n",
            "criteria :gini| max_samples : 1.0| N_estimators: 400| depth: 100 => accuracy 0.981304784834389\n",
            "criteria :gini| max_samples : 1.0| N_estimators: 400| depth: 200 => accuracy 0.981304784834389\n",
            "criteria :gini| max_samples : 1.0| N_estimators: 400| depth: 300 => accuracy 0.981304784834389\n",
            "criteria :gini| max_samples : 1.0| N_estimators: 600| depth: 5 => accuracy 0.8186305447122166\n",
            "criteria :gini| max_samples : 1.0| N_estimators: 600| depth: 10 => accuracy 0.9433549161232012\n",
            "criteria :gini| max_samples : 1.0| N_estimators: 600| depth: 50 => accuracy 0.9821423840801602\n",
            "criteria :gini| max_samples : 1.0| N_estimators: 600| depth: 100 => accuracy 0.9821423840801602\n",
            "criteria :gini| max_samples : 1.0| N_estimators: 600| depth: 200 => accuracy 0.9821423840801602\n",
            "criteria :gini| max_samples : 1.0| N_estimators: 600| depth: 300 => accuracy 0.9821423840801602\n",
            "criteria :entropy| max_samples : 0.33| N_estimators: 50| depth: 5 => accuracy 0.8055219217253764\n",
            "criteria :entropy| max_samples : 0.33| N_estimators: 50| depth: 10 => accuracy 0.9157301138355812\n",
            "criteria :entropy| max_samples : 0.33| N_estimators: 50| depth: 50 => accuracy 0.9436330769890061\n",
            "criteria :entropy| max_samples : 0.33| N_estimators: 50| depth: 100 => accuracy 0.9436330769890061\n",
            "criteria :entropy| max_samples : 0.33| N_estimators: 50| depth: 200 => accuracy 0.9436330769890061\n",
            "criteria :entropy| max_samples : 0.33| N_estimators: 50| depth: 300 => accuracy 0.9436330769890061\n",
            "criteria :entropy| max_samples : 0.33| N_estimators: 100| depth: 5 => accuracy 0.8044053824517114\n",
            "criteria :entropy| max_samples : 0.33| N_estimators: 100| depth: 10 => accuracy 0.9224274015723491\n",
            "criteria :entropy| max_samples : 0.33| N_estimators: 100| depth: 50 => accuracy 0.950889023943651\n",
            "criteria :entropy| max_samples : 0.33| N_estimators: 100| depth: 100 => accuracy 0.950889023943651\n",
            "criteria :entropy| max_samples : 0.33| N_estimators: 100| depth: 200 => accuracy 0.950889023943651\n",
            "criteria :entropy| max_samples : 0.33| N_estimators: 100| depth: 300 => accuracy 0.950889023943651\n",
            "criteria :entropy| max_samples : 0.33| N_estimators: 200| depth: 5 => accuracy 0.8097068013058756\n",
            "criteria :entropy| max_samples : 0.33| N_estimators: 200| depth: 10 => accuracy 0.9249386409854843\n",
            "criteria :entropy| max_samples : 0.33| N_estimators: 200| depth: 50 => accuracy 0.9545164130494067\n",
            "criteria :entropy| max_samples : 0.33| N_estimators: 200| depth: 100 => accuracy 0.9545164130494067\n",
            "criteria :entropy| max_samples : 0.33| N_estimators: 200| depth: 200 => accuracy 0.9545164130494067\n",
            "criteria :entropy| max_samples : 0.33| N_estimators: 200| depth: 300 => accuracy 0.9545164130494067\n",
            "criteria :entropy| max_samples : 0.33| N_estimators: 400| depth: 5 => accuracy 0.8088688124790601\n",
            "criteria :entropy| max_samples : 0.33| N_estimators: 400| depth: 10 => accuracy 0.924379981767607\n",
            "criteria :entropy| max_samples : 0.33| N_estimators: 400| depth: 50 => accuracy 0.9542386417646462\n",
            "criteria :entropy| max_samples : 0.33| N_estimators: 400| depth: 100 => accuracy 0.9542386417646462\n",
            "criteria :entropy| max_samples : 0.33| N_estimators: 400| depth: 200 => accuracy 0.9542386417646462\n",
            "criteria :entropy| max_samples : 0.33| N_estimators: 400| depth: 300 => accuracy 0.9542386417646462\n",
            "criteria :entropy| max_samples : 0.33| N_estimators: 600| depth: 5 => accuracy 0.8108213926743181\n",
            "criteria :entropy| max_samples : 0.33| N_estimators: 600| depth: 10 => accuracy 0.9243799817676072\n",
            "criteria :entropy| max_samples : 0.33| N_estimators: 600| depth: 50 => accuracy 0.953402211262009\n",
            "criteria :entropy| max_samples : 0.33| N_estimators: 600| depth: 100 => accuracy 0.953402211262009\n",
            "criteria :entropy| max_samples : 0.33| N_estimators: 600| depth: 200 => accuracy 0.953402211262009\n",
            "criteria :entropy| max_samples : 0.33| N_estimators: 600| depth: 300 => accuracy 0.953402211262009\n",
            "criteria :entropy| max_samples : 0.5| N_estimators: 50| depth: 5 => accuracy 0.8144487817800737\n",
            "criteria :entropy| max_samples : 0.5| N_estimators: 50| depth: 10 => accuracy 0.9307967711523026\n",
            "criteria :entropy| max_samples : 0.5| N_estimators: 50| depth: 50 => accuracy 0.9665166779645169\n",
            "criteria :entropy| max_samples : 0.5| N_estimators: 50| depth: 100 => accuracy 0.9665166779645169\n",
            "criteria :entropy| max_samples : 0.5| N_estimators: 50| depth: 200 => accuracy 0.9665166779645169\n",
            "criteria :entropy| max_samples : 0.5| N_estimators: 50| depth: 300 => accuracy 0.9665166779645169\n",
            "criteria :entropy| max_samples : 0.5| N_estimators: 100| depth: 5 => accuracy 0.8113808310542844\n",
            "criteria :entropy| max_samples : 0.5| N_estimators: 100| depth: 10 => accuracy 0.9291227414038943\n",
            "criteria :entropy| max_samples : 0.5| N_estimators: 100| depth: 50 => accuracy 0.9704222279360775\n",
            "criteria :entropy| max_samples : 0.5| N_estimators: 100| depth: 100 => accuracy 0.9704222279360775\n",
            "criteria :entropy| max_samples : 0.5| N_estimators: 100| depth: 200 => accuracy 0.9704222279360775\n",
            "criteria :entropy| max_samples : 0.5| N_estimators: 100| depth: 300 => accuracy 0.9704222279360775\n",
            "criteria :entropy| max_samples : 0.5| N_estimators: 200| depth: 5 => accuracy 0.8136127408584807\n",
            "criteria :entropy| max_samples : 0.5| N_estimators: 200| depth: 10 => accuracy 0.9349832090569802\n",
            "criteria :entropy| max_samples : 0.5| N_estimators: 200| depth: 50 => accuracy 0.9704233966792112\n",
            "criteria :entropy| max_samples : 0.5| N_estimators: 200| depth: 100 => accuracy 0.9704233966792112\n",
            "criteria :entropy| max_samples : 0.5| N_estimators: 200| depth: 200 => accuracy 0.9704233966792112\n",
            "criteria :entropy| max_samples : 0.5| N_estimators: 200| depth: 300 => accuracy 0.9704233966792112\n",
            "criteria :entropy| max_samples : 0.5| N_estimators: 400| depth: 5 => accuracy 0.8119391006911167\n",
            "criteria :entropy| max_samples : 0.5| N_estimators: 400| depth: 10 => accuracy 0.936656070062255\n",
            "criteria :entropy| max_samples : 0.5| N_estimators: 400| depth: 50 => accuracy 0.9712602167628932\n",
            "criteria :entropy| max_samples : 0.5| N_estimators: 400| depth: 100 => accuracy 0.9712602167628932\n",
            "criteria :entropy| max_samples : 0.5| N_estimators: 400| depth: 200 => accuracy 0.9712602167628932\n",
            "criteria :entropy| max_samples : 0.5| N_estimators: 400| depth: 300 => accuracy 0.9712602167628932\n",
            "criteria :entropy| max_samples : 0.5| N_estimators: 600| depth: 5 => accuracy 0.8150086097410846\n",
            "criteria :entropy| max_samples : 0.5| N_estimators: 600| depth: 10 => accuracy 0.9377722197548757\n",
            "criteria :entropy| max_samples : 0.5| N_estimators: 600| depth: 50 => accuracy 0.9751657667344539\n",
            "criteria :entropy| max_samples : 0.5| N_estimators: 600| depth: 100 => accuracy 0.9751657667344539\n",
            "criteria :entropy| max_samples : 0.5| N_estimators: 600| depth: 200 => accuracy 0.9751657667344539\n",
            "criteria :entropy| max_samples : 0.5| N_estimators: 600| depth: 300 => accuracy 0.9751657667344539\n",
            "criteria :entropy| max_samples : 1.0| N_estimators: 50| depth: 5 => accuracy 0.8158427027574546\n",
            "criteria :entropy| max_samples : 1.0| N_estimators: 50| depth: 10 => accuracy 0.9422364289443133\n",
            "criteria :entropy| max_samples : 1.0| N_estimators: 50| depth: 50 => accuracy 0.9818650023764443\n",
            "criteria :entropy| max_samples : 1.0| N_estimators: 50| depth: 100 => accuracy 0.9818650023764443\n",
            "criteria :entropy| max_samples : 1.0| N_estimators: 50| depth: 200 => accuracy 0.9818650023764443\n",
            "criteria :entropy| max_samples : 1.0| N_estimators: 50| depth: 300 => accuracy 0.9818650023764443\n",
            "criteria :entropy| max_samples : 1.0| N_estimators: 100| depth: 5 => accuracy 0.8152891080931566\n",
            "criteria :entropy| max_samples : 1.0| N_estimators: 100| depth: 10 => accuracy 0.9461450955642302\n",
            "criteria :entropy| max_samples : 1.0| N_estimators: 100| depth: 50 => accuracy 0.9835382529627639\n",
            "criteria :entropy| max_samples : 1.0| N_estimators: 100| depth: 100 => accuracy 0.9835382529627639\n",
            "criteria :entropy| max_samples : 1.0| N_estimators: 100| depth: 200 => accuracy 0.9835382529627639\n",
            "criteria :entropy| max_samples : 1.0| N_estimators: 100| depth: 300 => accuracy 0.9835382529627639\n",
            "criteria :entropy| max_samples : 1.0| N_estimators: 200| depth: 5 => accuracy 0.8133341904116314\n",
            "criteria :entropy| max_samples : 1.0| N_estimators: 200| depth: 10 => accuracy 0.9525614953678814\n",
            "criteria :entropy| max_samples : 1.0| N_estimators: 200| depth: 50 => accuracy 0.9860491027948542\n",
            "criteria :entropy| max_samples : 1.0| N_estimators: 200| depth: 100 => accuracy 0.9860491027948542\n",
            "criteria :entropy| max_samples : 1.0| N_estimators: 200| depth: 200 => accuracy 0.9860491027948542\n",
            "criteria :entropy| max_samples : 1.0| N_estimators: 200| depth: 300 => accuracy 0.9860491027948542\n",
            "criteria :entropy| max_samples : 1.0| N_estimators: 400| depth: 5 => accuracy 0.8152883289310676\n",
            "criteria :entropy| max_samples : 1.0| N_estimators: 400| depth: 10 => accuracy 0.952283724083121\n",
            "criteria :entropy| max_samples : 1.0| N_estimators: 400| depth: 50 => accuracy 0.98688709162167\n",
            "criteria :entropy| max_samples : 1.0| N_estimators: 400| depth: 100 => accuracy 0.98688709162167\n",
            "criteria :entropy| max_samples : 1.0| N_estimators: 400| depth: 200 => accuracy 0.98688709162167\n",
            "criteria :entropy| max_samples : 1.0| N_estimators: 400| depth: 300 => accuracy 0.98688709162167\n",
            "criteria :entropy| max_samples : 1.0| N_estimators: 600| depth: 5 => accuracy 0.8180777292100074\n",
            "criteria :entropy| max_samples : 1.0| N_estimators: 600| depth: 10 => accuracy 0.9520051736362716\n",
            "criteria :entropy| max_samples : 1.0| N_estimators: 600| depth: 50 => accuracy 0.986329211565882\n",
            "criteria :entropy| max_samples : 1.0| N_estimators: 600| depth: 100 => accuracy 0.986329211565882\n",
            "criteria :entropy| max_samples : 1.0| N_estimators: 600| depth: 200 => accuracy 0.986329211565882\n",
            "criteria :entropy| max_samples : 1.0| N_estimators: 600| depth: 300 => accuracy 0.986329211565882\n"
          ]
        }
      ]
    },
    {
      "cell_type": "code",
      "source": [
        "rf = RandomForestClassifier(criterion = 'entropy', n_estimators=400, max_depth=50,max_samples =1.0, random_state=42)\n",
        "rf = rf.fit(X_train,y_train)\n",
        "\n",
        "y_pred = rf.predict(X_test)"
      ],
      "metadata": {
        "id": "tYzew09ODYpb"
      },
      "execution_count": null,
      "outputs": []
    },
    {
      "cell_type": "code",
      "source": [
        "print(f'10 first elements of y_pred : {y_pred[:10]}')"
      ],
      "metadata": {
        "colab": {
          "base_uri": "https://localhost:8080/"
        },
        "id": "-2BbI5E_DknB",
        "outputId": "8923e199-cb6f-4389-ff11-e382b2d6240c"
      },
      "execution_count": null,
      "outputs": [
        {
          "output_type": "stream",
          "name": "stdout",
          "text": [
            "10 first elements of y_pred : [2 2 1 4 3 4 2 2 3 4]\n"
          ]
        }
      ]
    },
    {
      "cell_type": "code",
      "source": [
        "print(f'random forest accuracy on train set: {rf.score(X_train, y_train)}')\n",
        "print(f'random forest accuracy on test set : {rf.score(X_test, y_test)}')"
      ],
      "metadata": {
        "colab": {
          "base_uri": "https://localhost:8080/"
        },
        "id": "8cto7Zc5Dtg8",
        "outputId": "b35bafe3-d1d4-4dd0-ae29-3d8576563bde"
      },
      "execution_count": null,
      "outputs": [
        {
          "output_type": "stream",
          "name": "stdout",
          "text": [
            "random forest accuracy on train set: 1.0\n",
            "random forest accuracy on test set : 0.9899553571428571\n"
          ]
        }
      ]
    },
    {
      "cell_type": "code",
      "source": [
        "print(classification_report(y_test, y_pred))"
      ],
      "metadata": {
        "colab": {
          "base_uri": "https://localhost:8080/"
        },
        "id": "LPuPkY3dD0an",
        "outputId": "284bfb02-2525-45e9-e7ea-7ba013e9afa5"
      },
      "execution_count": null,
      "outputs": [
        {
          "output_type": "stream",
          "name": "stdout",
          "text": [
            "              precision    recall  f1-score   support\n",
            "\n",
            "           1       1.00      0.98      0.99       224\n",
            "           2       0.97      1.00      0.99       226\n",
            "           3       0.99      0.98      0.98       216\n",
            "           4       1.00      1.00      1.00       230\n",
            "\n",
            "    accuracy                           0.99       896\n",
            "   macro avg       0.99      0.99      0.99       896\n",
            "weighted avg       0.99      0.99      0.99       896\n",
            "\n"
          ]
        }
      ]
    },
    {
      "cell_type": "code",
      "source": [
        "confusion_matrix(y_test, y_pred)"
      ],
      "metadata": {
        "colab": {
          "base_uri": "https://localhost:8080/",
          "height": 295
        },
        "id": "_m-ekYbBD61t",
        "outputId": "e235a8b1-3847-4b6d-efa8-151649f7975a"
      },
      "execution_count": null,
      "outputs": [
        {
          "output_type": "display_data",
          "data": {
            "image/png": "[encoded data removed]",
            "text/plain": [
              "<Figure size 432x288 with 2 Axes>"
            ]
          },
          "metadata": {
            "needs_background": "light"
          }
        }
      ]
    },
    {
      "cell_type": "markdown",
      "source": [
        "## XGBoost Classfier"
      ],
      "metadata": {
        "id": "5H65OfUWD7gQ"
      }
    },
    {
      "cell_type": "code",
      "source": [
        "from xgboost import XGBClassifier\n",
        "\n",
        "max_depth = [5, 10, 50]\n",
        "\n",
        "for depth in max_depth:\n",
        "        \n",
        "    xgb = XGBClassifier(objective='multi:sofmax', max_depth=depth, num_classes=4, random_state=42)\n",
        "    scores = cross_val_score(xgb, X_train, y_train, cv=5)\n",
        "    print(f'depth: {depth}  => accuracy {scores.mean()}')\n"
      ],
      "metadata": {
        "colab": {
          "base_uri": "https://localhost:8080/"
        },
        "id": "atL6BfgRD_Ff",
        "outputId": "8bfa217c-7825-4203-a9d1-628eae04ec9e"
      },
      "execution_count": null,
      "outputs": [
        {
          "output_type": "stream",
          "name": "stdout",
          "text": [
            "depth: 5  => accuracy 0.986607372431687\n",
            "depth: 10  => accuracy 0.9868855332974918\n",
            "depth: 50  => accuracy 0.9838168034096133\n"
          ]
        }
      ]
    },
    {
      "cell_type": "markdown",
      "source": [
        "As we seen, depth=10 is better than other depths."
      ],
      "metadata": {
        "id": "K_gGCcQQ0HOC"
      }
    },
    {
      "cell_type": "code",
      "source": [
        "n_estimators = [300, 500]\n",
        "\n",
        "for estimator in n_estimators:\n",
        "      \n",
        "    xgb = XGBClassifier(objective='multi:sofmax', max_depth=10, n_estimators=estimator,num_classes=4, random_state=42)\n",
        "    scores = cross_val_score(xgb, X_train, y_train, cv=5)\n",
        "    print(f'N_estimators: {estimator} => accuracy {scores.mean()}')"
      ],
      "metadata": {
        "colab": {
          "base_uri": "https://localhost:8080/"
        },
        "id": "ki2wTRLsvewJ",
        "outputId": "0a875f6c-b397-4f2a-be8c-1dae062d82c1"
      },
      "execution_count": null,
      "outputs": [
        {
          "output_type": "stream",
          "name": "stdout",
          "text": [
            "N_estimators: 300 => accuracy 0.9905129224032476\n",
            "N_estimators: 500 => accuracy 0.9913497424869296\n"
          ]
        }
      ]
    },
    {
      "cell_type": "markdown",
      "source": [
        "As we can see, n_estimator=500 is better than other ."
      ],
      "metadata": {
        "id": "bo5kAatx-SsD"
      }
    },
    {
      "cell_type": "code",
      "source": [
        "learning_rate = [0.1, 0.01, 0.001]\n",
        "\n",
        "for lr in learning_rate:\n",
        "        \n",
        "    xgb = XGBClassifier(objective='multi:sofmax', max_depth=10, n_estimators=500, learning_rate=lr, num_classes=4, random_state=42)\n",
        "    scores = cross_val_score(xgb, X_train, y_train, cv=5)\n",
        "    print(f'lr : {lr} => accuracy {scores.mean()}')"
      ],
      "metadata": {
        "colab": {
          "base_uri": "https://localhost:8080/"
        },
        "id": "3vrq5ZG7vfUj",
        "outputId": "2c461d80-a167-46f5-ac34-2b2b0b417c16"
      },
      "execution_count": null,
      "outputs": [
        {
          "output_type": "stream",
          "name": "stdout",
          "text": [
            "lr : 0.1 => accuracy 0.9913497424869296\n",
            "lr : 0.01 => accuracy 0.9779578940807057\n",
            "lr : 0.001 => accuracy 0.9450297250336988\n"
          ]
        }
      ]
    },
    {
      "cell_type": "code",
      "source": [
        "xgb = XGBClassifier(objective='multi:sofmax', max_depth=10, n_estimator=500, learning_rate=0.1, num_classes=4, random_state=42)\n",
        "xgb = xgb.fit(X_train,y_train)\n",
        "\n",
        "y_pred = xgb.predict(X_test)"
      ],
      "metadata": {
        "id": "nalMddavu9u_"
      },
      "execution_count": null,
      "outputs": []
    },
    {
      "cell_type": "code",
      "source": [
        "print(f'10 first elements of y_pred : {y_pred[:10]}')"
      ],
      "metadata": {
        "colab": {
          "base_uri": "https://localhost:8080/"
        },
        "id": "-RW-SJ-NvHHG",
        "outputId": "5a54b90c-4420-4bce-fdab-87e0fadb6435"
      },
      "execution_count": null,
      "outputs": [
        {
          "output_type": "stream",
          "name": "stdout",
          "text": [
            "10 first elements of y_pred : [2 2 1 4 3 4 2 2 3 4]\n"
          ]
        }
      ]
    },
    {
      "cell_type": "code",
      "source": [
        "print(f'xgb accuracy on train set: {xgb.score(X_train, y_train)}')\n",
        "print(f'xgb accuracy on test set : {xgb.score(X_test, y_test)}')"
      ],
      "metadata": {
        "colab": {
          "base_uri": "https://localhost:8080/"
        },
        "id": "nxM7jZ_BvJ4N",
        "outputId": "77c83a8b-5876-48f8-98bb-de42e79a8630"
      },
      "execution_count": null,
      "outputs": [
        {
          "output_type": "stream",
          "name": "stdout",
          "text": [
            "random forest accuracy on train set: 1.0\n",
            "random forest accuracy on test set : 0.9866071428571429\n"
          ]
        }
      ]
    },
    {
      "cell_type": "code",
      "source": [
        "print(classification_report(y_test, y_pred))"
      ],
      "metadata": {
        "colab": {
          "base_uri": "https://localhost:8080/"
        },
        "id": "p85_jQJvvMr_",
        "outputId": "9272e1b5-9a15-4b6a-f329-b94096be83c1"
      },
      "execution_count": null,
      "outputs": [
        {
          "output_type": "stream",
          "name": "stdout",
          "text": [
            "              precision    recall  f1-score   support\n",
            "\n",
            "           1       1.00      0.97      0.98       224\n",
            "           2       1.00      0.99      0.99       226\n",
            "           3       0.96      0.99      0.97       216\n",
            "           4       0.99      1.00      0.99       230\n",
            "\n",
            "    accuracy                           0.99       896\n",
            "   macro avg       0.99      0.99      0.99       896\n",
            "weighted avg       0.99      0.99      0.99       896\n",
            "\n"
          ]
        }
      ]
    },
    {
      "cell_type": "code",
      "source": [
        "confusion_matrix(y_test, y_pred)"
      ],
      "metadata": {
        "colab": {
          "base_uri": "https://localhost:8080/",
          "height": 295
        },
        "id": "r4AzzJHMvNRP",
        "outputId": "5ff7ac5b-67e5-4a4f-fcdb-3e3feebe1864"
      },
      "execution_count": null,
      "outputs": [
        {
          "output_type": "display_data",
          "data": {
            "image/png": "[encoded data removed]",
            "text/plain": [
              "<Figure size 432x288 with 2 Axes>"
            ]
          },
          "metadata": {
            "needs_background": "light"
          }
        }
      ]
    },
    {
      "cell_type": "markdown",
      "source": [
        "## SVM Classifier"
      ],
      "metadata": {
        "id": "_7a3AbgD_Zfh"
      }
    },
    {
      "cell_type": "code",
      "source": [
        "kernel = ['linear', 'rbf', 'sigmoid', 'poly']\n",
        "\n",
        "for kernel in kernel:\n",
        "        \n",
        "    svc = svm.SVC(kernel=kernel, random_state=42)\n",
        "    scores = cross_val_score(svc, X_train, y_train, cv=5)\n",
        "    print(f'kernel : {kernel} => accuracy {scores.mean()}')"
      ],
      "metadata": {
        "colab": {
          "base_uri": "https://localhost:8080/"
        },
        "id": "R8iZoyvy_bZu",
        "outputId": "e21b014d-5e72-4d02-f9cd-510c006b4151"
      },
      "execution_count": null,
      "outputs": [
        {
          "output_type": "stream",
          "name": "stdout",
          "text": [
            "kernel : linear => accuracy 0.8691428437857928\n",
            "kernel : rbf => accuracy 0.8253348449077862\n",
            "kernel : sigmoid => accuracy 0.7318622753091326\n",
            "kernel : poly => accuracy 0.6545721231387767\n"
          ]
        }
      ]
    },
    {
      "cell_type": "code",
      "source": [
        "decision_function_shape = ['ovo', 'ovr']  #default=’ovr\n",
        "\n",
        "for function in decision_function_shape:\n",
        "        \n",
        "    svc = svm.SVC(kernel='linear', decision_function_shape=function, random_state=42)\n",
        "    scores = cross_val_score(svc, X_train, y_train, cv=5)\n",
        "    print(f'decision function shape : {function} => accuracy {scores.mean()}')"
      ],
      "metadata": {
        "colab": {
          "base_uri": "https://localhost:8080/"
        },
        "id": "eRN15cTQcbNe",
        "outputId": "9d3ddc54-924c-473e-cb64-91c3486de988"
      },
      "execution_count": null,
      "outputs": [
        {
          "output_type": "stream",
          "name": "stdout",
          "text": [
            "decision function shape : ovo => accuracy 0.8691428437857928\n",
            "decision function shape : ovr => accuracy 0.8691428437857928\n"
          ]
        }
      ]
    },
    {
      "cell_type": "code",
      "source": [
        "svc = svm.SVC(kernel='linear', decision_function_shape='ovr', random_state=42)\n",
        "svc = svc.fit(X_train,y_train)\n",
        "\n",
        "y_pred = svc.predict(X_test)"
      ],
      "metadata": {
        "id": "-p-VcYijdI8B"
      },
      "execution_count": null,
      "outputs": []
    },
    {
      "cell_type": "code",
      "source": [
        "print(f'10 first elements of y_pred : {y_pred[:10]}')"
      ],
      "metadata": {
        "colab": {
          "base_uri": "https://localhost:8080/"
        },
        "id": "smhjg11yd15i",
        "outputId": "fc3a1170-fd99-403c-a8fd-a8b902d593c5"
      },
      "execution_count": null,
      "outputs": [
        {
          "output_type": "stream",
          "name": "stdout",
          "text": [
            "10 first elements of y_pred : [2 3 3 4 2 4 2 2 3 4]\n"
          ]
        }
      ]
    },
    {
      "cell_type": "code",
      "source": [
        "print(f'svm accuracy on train set: {svc.score(X_train, y_train)}')\n",
        "print(f'svm accuracy on test set : {svc.score(X_test, y_test)}')"
      ],
      "metadata": {
        "colab": {
          "base_uri": "https://localhost:8080/"
        },
        "id": "WwlZWgx-d7Pp",
        "outputId": "d24997a0-9b01-48cf-8ab5-4db1d0998bab"
      },
      "execution_count": null,
      "outputs": [
        {
          "output_type": "stream",
          "name": "stdout",
          "text": [
            "random forest accuracy on train set: 0.9174107142857143\n",
            "random forest accuracy on test set : 0.875\n"
          ]
        }
      ]
    },
    {
      "cell_type": "code",
      "source": [
        "print(classification_report(y_test, y_pred))"
      ],
      "metadata": {
        "colab": {
          "base_uri": "https://localhost:8080/"
        },
        "id": "EopdCgGVd-Em",
        "outputId": "897f3547-07e5-4436-f959-ff1222cb5622"
      },
      "execution_count": null,
      "outputs": [
        {
          "output_type": "stream",
          "name": "stdout",
          "text": [
            "              precision    recall  f1-score   support\n",
            "\n",
            "           1       0.93      0.95      0.94       224\n",
            "           2       0.81      0.82      0.81       226\n",
            "           3       0.76      0.74      0.75       216\n",
            "           4       1.00      0.98      0.99       230\n",
            "\n",
            "    accuracy                           0.88       896\n",
            "   macro avg       0.87      0.87      0.87       896\n",
            "weighted avg       0.87      0.88      0.87       896\n",
            "\n"
          ]
        }
      ]
    },
    {
      "cell_type": "code",
      "source": [
        "confusion_matrix(y_test, y_pred)"
      ],
      "metadata": {
        "colab": {
          "base_uri": "https://localhost:8080/",
          "height": 295
        },
        "id": "wutwJU_EeXlt",
        "outputId": "3b906c58-2d59-435f-de5d-bcf2efdae18d"
      },
      "execution_count": null,
      "outputs": [
        {
          "output_type": "display_data",
          "data": {
            "image/png": "[encoded data removed]",
            "text/plain": [
              "<Figure size 432x288 with 2 Axes>"
            ]
          },
          "metadata": {
            "needs_background": "light"
          }
        }
      ]
    }
  ]
}